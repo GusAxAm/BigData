{
 "cells": [
  {
   "cell_type": "code",
   "execution_count": 1,
   "id": "a5ba9277",
   "metadata": {},
   "outputs": [],
   "source": [
    "import findspark\n",
    "findspark.init()"
   ]
  },
  {
   "cell_type": "code",
   "execution_count": 2,
   "id": "c562dd92",
   "metadata": {},
   "outputs": [],
   "source": [
    "from pyspark.sql import SparkSession"
   ]
  },
  {
   "cell_type": "code",
   "execution_count": 7,
   "id": "77c5d749",
   "metadata": {},
   "outputs": [],
   "source": [
    "spark = SparkSession.builder.appName(\"DataWrangling\").getOrCreate()"
   ]
  },
  {
   "cell_type": "code",
   "execution_count": null,
   "id": "7c3d4fd7",
   "metadata": {},
   "outputs": [],
   "source": [
    "spark.stop()"
   ]
  },
  {
   "cell_type": "code",
   "execution_count": 1,
   "id": "21d6d268",
   "metadata": {},
   "outputs": [],
   "source": [
    "#arch = D\\\\00_Materias_2021\\\\dataset\\\\Movies\\\\movie_data_tmbd.csv\"\n",
    "arch = \"C:\\\\BigData\\\\DataSets\\\\Combinados.csv\""
   ]
  },
  {
   "cell_type": "code",
   "execution_count": 6,
   "id": "489ab198",
   "metadata": {},
   "outputs": [
    {
     "ename": "NameError",
     "evalue": "name 'spark' is not defined",
     "output_type": "error",
     "traceback": [
      "\u001b[1;31m---------------------------------------------------------------------------\u001b[0m",
      "\u001b[1;31mNameError\u001b[0m                                 Traceback (most recent call last)",
      "\u001b[1;32m~\\AppData\\Local\\Temp/ipykernel_9124/3907646312.py\u001b[0m in \u001b[0;36m<module>\u001b[1;34m\u001b[0m\n\u001b[1;32m----> 1\u001b[1;33m \u001b[0mdf\u001b[0m \u001b[1;33m=\u001b[0m \u001b[0mspark\u001b[0m\u001b[1;33m.\u001b[0m\u001b[0mread\u001b[0m\u001b[1;33m.\u001b[0m\u001b[0mformat\u001b[0m\u001b[1;33m(\u001b[0m\u001b[1;34m\"csv\"\u001b[0m\u001b[1;33m)\u001b[0m\u001b[1;33m.\u001b[0m\u001b[0moption\u001b[0m\u001b[1;33m(\u001b[0m\u001b[1;34m\"infer5chema\"\u001b[0m\u001b[1;33m,\u001b[0m \u001b[1;32mFalse\u001b[0m\u001b[1;33m)\u001b[0m\u001b[1;33m.\u001b[0m\u001b[0moption\u001b[0m\u001b[1;33m(\u001b[0m\u001b[1;34m\"header\"\u001b[0m\u001b[1;33m,\u001b[0m \u001b[1;32mTrue\u001b[0m\u001b[1;33m)\u001b[0m\u001b[1;33m.\u001b[0m\u001b[0moption\u001b[0m\u001b[1;33m(\u001b[0m\u001b[1;34m\"sep\"\u001b[0m\u001b[1;33m,\u001b[0m \u001b[1;34m\"|\"\u001b[0m\u001b[1;33m)\u001b[0m\u001b[1;33m.\u001b[0m\u001b[0mload\u001b[0m\u001b[1;33m(\u001b[0m\u001b[0march\u001b[0m\u001b[1;33m)\u001b[0m\u001b[1;33m\u001b[0m\u001b[1;33m\u001b[0m\u001b[0m\n\u001b[0m\u001b[0;32m      2\u001b[0m \u001b[1;31m#InferSchema no interfiere los tioos de datos/columna\u001b[0m\u001b[1;33m\u001b[0m\u001b[1;33m\u001b[0m\u001b[0m\n",
      "\u001b[1;31mNameError\u001b[0m: name 'spark' is not defined"
     ]
    }
   ],
   "source": [
    "df = spark.read.format(\"csv\").option(\"infer5chema\", False).option(\"header\", True).option(\"sep\", \"|\").load(arch)\n",
    "#InferSchema no interfiere los tioos de datos/columna"
   ]
  },
  {
   "cell_type": "code",
   "execution_count": 6,
   "id": "ff0c32b4",
   "metadata": {},
   "outputs": [
    {
     "name": "stdout",
     "output_type": "stream",
     "text": [
      "root\n",
      " |-- adult: string (nullable = true)\n",
      " |-- backdrop_path: string (nullable = true)\n",
      " |-- belongs_to_collection: string (nullable = true)\n",
      " |-- budget: string (nullable = true)\n",
      " |-- genres: string (nullable = true)\n",
      " |-- homepage: string (nullable = true)\n",
      " |-- id: string (nullable = true)\n",
      " |-- imdb_id: string (nullable = true)\n",
      " |-- original_language: string (nullable = true)\n",
      " |-- original_title: string (nullable = true)\n",
      " |-- overview: string (nullable = true)\n",
      " |-- popularity: string (nullable = true)\n",
      " |-- poster_path: string (nullable = true)\n",
      " |-- production_companies: string (nullable = true)\n",
      " |-- production_countries: string (nullable = true)\n",
      " |-- release_date: string (nullable = true)\n",
      " |-- revenue: string (nullable = true)\n",
      " |-- runtime: string (nullable = true)\n",
      " |-- spoken_languages: string (nullable = true)\n",
      " |-- status: string (nullable = true)\n",
      " |-- tagline: string (nullable = true)\n",
      " |-- title: string (nullable = true)\n",
      " |-- video: string (nullable = true)\n",
      " |-- vote_average: string (nullable = true)\n",
      " |-- vote_count: string (nullable = true)\n",
      " |-- cast: string (nullable = true)\n",
      " |-- directors: string (nullable = true)\n",
      "\n"
     ]
    }
   ],
   "source": [
    "df.printSchema()"
   ]
  },
  {
   "cell_type": "code",
   "execution_count": 7,
   "id": "81c88cf8",
   "metadata": {},
   "outputs": [
    {
     "data": {
      "text/plain": [
       "[('adult', 'string'),\n",
       " ('backdrop_path', 'string'),\n",
       " ('belongs_to_collection', 'string'),\n",
       " ('budget', 'string'),\n",
       " ('genres', 'string'),\n",
       " ('homepage', 'string'),\n",
       " ('id', 'string'),\n",
       " ('imdb_id', 'string'),\n",
       " ('original_language', 'string'),\n",
       " ('original_title', 'string'),\n",
       " ('overview', 'string'),\n",
       " ('popularity', 'string'),\n",
       " ('poster_path', 'string'),\n",
       " ('production_companies', 'string'),\n",
       " ('production_countries', 'string'),\n",
       " ('release_date', 'string'),\n",
       " ('revenue', 'string'),\n",
       " ('runtime', 'string'),\n",
       " ('spoken_languages', 'string'),\n",
       " ('status', 'string'),\n",
       " ('tagline', 'string'),\n",
       " ('title', 'string'),\n",
       " ('video', 'string'),\n",
       " ('vote_average', 'string'),\n",
       " ('vote_count', 'string'),\n",
       " ('cast', 'string'),\n",
       " ('directors', 'string')]"
      ]
     },
     "execution_count": 7,
     "metadata": {},
     "output_type": "execute_result"
    }
   ],
   "source": [
    "df.dtypes"
   ]
  },
  {
   "cell_type": "code",
   "execution_count": 8,
   "id": "369f667e",
   "metadata": {},
   "outputs": [
    {
     "data": {
      "text/plain": [
       "['adult',\n",
       " 'backdrop_path',\n",
       " 'belongs_to_collection',\n",
       " 'budget',\n",
       " 'genres',\n",
       " 'homepage',\n",
       " 'id',\n",
       " 'imdb_id',\n",
       " 'original_language',\n",
       " 'original_title',\n",
       " 'overview',\n",
       " 'popularity',\n",
       " 'poster_path',\n",
       " 'production_companies',\n",
       " 'production_countries',\n",
       " 'release_date',\n",
       " 'revenue',\n",
       " 'runtime',\n",
       " 'spoken_languages',\n",
       " 'status',\n",
       " 'tagline',\n",
       " 'title',\n",
       " 'video',\n",
       " 'vote_average',\n",
       " 'vote_count',\n",
       " 'cast',\n",
       " 'directors']"
      ]
     },
     "execution_count": 8,
     "metadata": {},
     "output_type": "execute_result"
    }
   ],
   "source": [
    "df.columns"
   ]
  },
  {
   "cell_type": "code",
   "execution_count": 9,
   "id": "7f850a23",
   "metadata": {},
   "outputs": [
    {
     "data": {
      "text/plain": [
       "120127"
      ]
     },
     "execution_count": 9,
     "metadata": {},
     "output_type": "execute_result"
    }
   ],
   "source": [
    "df.count()"
   ]
  },
  {
   "cell_type": "code",
   "execution_count": 10,
   "id": "adb72d15",
   "metadata": {},
   "outputs": [],
   "source": [
    "cols = ['id', 'budget', 'popularity', 'release_date', 'revenue', 'title']"
   ]
  },
  {
   "cell_type": "code",
   "execution_count": 11,
   "id": "1a40f116",
   "metadata": {},
   "outputs": [],
   "source": [
    "subconjunto = df.select(*cols)"
   ]
  },
  {
   "cell_type": "code",
   "execution_count": 12,
   "id": "7aa44b38",
   "metadata": {},
   "outputs": [
    {
     "name": "stdout",
     "output_type": "stream",
     "text": [
      "+-----+-------+------------------+------------+-------+--------------------+\n",
      "|   id| budget|        popularity|release_date|revenue|               title|\n",
      "+-----+-------+------------------+------------+-------+--------------------+\n",
      "|43000|      0|             3.892|  1962-05-23|      0|The Elusive Corporal|\n",
      "|43001|      0|             5.482|  1962-11-12|      0|  Sundays and Cybele|\n",
      "|43002|      0|             8.262|  1962-05-24|      0|Lonely Are the Brave|\n",
      "|43003|      0|              7.83|  1975-03-12|      0|          F for Fake|\n",
      "|43004| 500000|             5.694|  1962-10-09|      0|Long Day's Journe...|\n",
      "|43006|      0|             2.873|  1962-03-09|      0|           My Geisha|\n",
      "|43007|      0|             3.433|  1962-10-31|      0|Period of Adjustment|\n",
      "|43008|      0|             7.869|  1959-03-13|      0|    The Hanging Tree|\n",
      "|43010|      0|             3.775|  1962-01-01|      0|Sherlock Holmes a...|\n",
      "|43011|      0|             7.185|  1962-01-01|      0|  Sodom and Gomorrah|\n",
      "|43012|7000000|             8.193|  1962-11-21|4000000|         Taras Bulba|\n",
      "|43013|      0|             4.408|  1962-04-17|      0|The Counterfeit T...|\n",
      "|43014|      0|             5.562|  1962-10-24|      0|     Tower of London|\n",
      "|43015|      0|             3.083|  1962-12-07|      0|Varan the Unbelie...|\n",
      "|43016|      0|3.5060000000000002|  1962-04-12|      0|Waltz of the Tore...|\n",
      "|43017|      0|             3.926|  1961-10-11|      0|         Back Street|\n",
      "|43018|      0|             3.623|  1961-06-02|      0|Gidget Goes Hawaiian|\n",
      "|43019|      0|             2.112|  2010-05-28|      0|Schuks Tshabalala...|\n",
      "|43020|      0|             9.668|  1961-06-15|      0|The Colossus of R...|\n",
      "|43021|      0|             4.033|  2008-08-22|      0|          Sex Galaxy|\n",
      "+-----+-------+------------------+------------+-------+--------------------+\n",
      "only showing top 20 rows\n",
      "\n"
     ]
    }
   ],
   "source": [
    "subconjunto.show()"
   ]
  },
  {
   "cell_type": "code",
   "execution_count": 13,
   "id": "6501ceca",
   "metadata": {},
   "outputs": [
    {
     "name": "stdout",
     "output_type": "stream",
     "text": [
      "+-----+--------------------+---------------------+-------+--------------------+--------------------+-----+---------+-----------------+--------------------+--------------------+------------------+--------------------+--------------------+--------------------+------------+-------+-------+--------------------+--------+--------------------+--------------------+-----+------------+----------+--------------------+--------------------+\n",
      "|adult|       backdrop_path|belongs_to_collection| budget|              genres|            homepage|   id|  imdb_id|original_language|      original_title|            overview|        popularity|         poster_path|production_companies|production_countries|release_date|revenue|runtime|    spoken_languages|  status|             tagline|               title|video|vote_average|vote_count|                cast|           directors|\n",
      "+-----+--------------------+---------------------+-------+--------------------+--------------------+-----+---------+-----------------+--------------------+--------------------+------------------+--------------------+--------------------+--------------------+------------+-------+-------+--------------------+--------+--------------------+--------------------+-----+------------+----------+--------------------+--------------------+\n",
      "|False|/zjLR7DbWujKiG7Vh...|                 null|      0|[{'id': 35, 'name...|                null|43000|tt0055827|               fr|  Le Caporal épinglé|The story serves ...|             3.892|/uagTKYLsRxVq5cfC...|[{'id': 16059, 'l...|[{'iso_3166_1': '...|  1962-05-23|      0|     90|[{'iso_639_1': 'f...|Released|                null|The Elusive Corporal|False|         5.9|        10|[{'cast_id': 3, '...|[{'credit_id': '5...|\n",
      "|False|                null|                 null|      0|[{'id': 18, 'name...|                null|43001|tt0055910|               fr|Cybèle ou les dim...|The tragic story ...|             5.482|/sTx0bYeq1OtKOGZS...|[{'id': 7808, 'lo...|[{'iso_3166_1': '...|  1962-11-12|      0|    110|[{'iso_639_1': 'f...|Released|                null|  Sundays and Cybele|False|         7.4|        28|\"[{'cast_id': 4, ...|[{'credit_id': '5...|\n",
      "|False|/7hbpOpGDOYZ4G8dd...|                 null|      0|[{'id': 18, 'name...|                null|43002|tt0056195|               en|Lonely Are the Brave|A fiercely indepe...|             8.262|/h5gaDp7FurCVfUCI...|[{'id': 3810, 'lo...|[{'iso_3166_1': '...|  1962-05-24|      0|    107|[{'iso_639_1': 'e...|Released|Life can never ca...|Lonely Are the Brave|False|         7.5|        70|\"[{'cast_id': 1, ...|[{'credit_id': '5...|\n",
      "|False|/28a0wvZb8kyjVBd6...|                 null|      0|[{'id': 99, 'name...|                null|43003|tt0072962|               fr|Vérités et Mensonges|Documents the liv...|              7.83|/qe6uEkCFGzY4j3nB...|[{'id': 36547, 'l...|[{'iso_3166_1': '...|  1975-03-12|      0|     89|[{'iso_639_1': 'e...|Released|                null|          F for Fake|False|         7.5|       178|[{'cast_id': 3, '...|[{'credit_id': '5...|\n",
      "|False|/bQzj8DnIghVqUSe5...|                 null| 500000|[{'id': 18, 'name...|                null|43004|tt0056196|               en|Long Day's Journe...|The film follows ...|             5.694|/v0LN26HmrCEgZiDG...|[{'id': 77598, 'l...|[{'iso_3166_1': '...|  1962-10-09|      0|    174|[{'iso_639_1': 'e...|Released|PRIDE...POWER...P...|Long Day's Journe...|False|         6.9|        32|[{'cast_id': 1, '...|[{'credit_id': '5...|\n",
      "|False|/gluooDaZ9PYOq4pU...|                 null|      0|[{'id': 35, 'name...|                null|43006|tt0056267|               en|           My Geisha|\"A director's (Yv...|             2.873|/agETDkxKKoPSZSeY...|[{'id': 82939, 'l...|[{'iso_3166_1': '...|  1962-03-09|      0|    119|[{'iso_639_1': 'j...|Released|                null|           My Geisha|False|         6.1|         7|\"[{'cast_id': 2, ...|[{'credit_id': '5...|\n",
      "|False|/mKeTNV8NzpbfmovX...|                 null|      0|[{'id': 35, 'name...|                null|43007|tt0056341|               en|Period of Adjustment|George Haverstick...|             3.433|/fb3Rh4sZMdEbGgfZ...|[{'id': 13359, 'l...|[{'iso_3166_1': '...|  1962-10-31|      0|    112|[{'iso_639_1': 'e...|Released|The agonizing pau...|Period of Adjustment|False|         6.4|         9|[{'cast_id': 2, '...|[{'credit_id': '5...|\n",
      "|False|/nbUnIkRlBmUEnI3Y...|                 null|      0|[{'id': 37, 'name...|                null|43008|tt0052876|               en|    The Hanging Tree|Character study o...|             7.869|/iViIfECbpQxPDhHj...|[{'id': 14248, 'l...|[{'iso_3166_1': '...|  1959-03-13|      0|    107|[{'iso_639_1': 'e...|Released|From The Prize No...|    The Hanging Tree|False|         6.6|        47|\"[{'cast_id': 2, ...|[{'credit_id': '5...|\n",
      "|False|                null|                 null|      0|[{'id': 10749, 'n...|                null|43010|tt0056480|               de|Sherlock Holmes u...|Sherlock Holmes a...|             3.775|/8bzjFYn0lbl3TxKX...|[{'id': 1787, 'lo...|[{'iso_3166_1': '...|  1962-01-01|      0|     87|[{'iso_639_1': 'd...|Released|                null|Sherlock Holmes a...|False|         5.5|        16|[{'cast_id': 2, '...|[{'credit_id': '5...|\n",
      "|False|/lan48NgJQEns4ZDV...|                 null|      0|[{'id': 12, 'name...|                null|43011|tt0056504|               en|  Sodom and Gomorrah|Sex, torture and ...|             7.185|/7aecIPGBoKB7FTVZ...|[{'id': 8894, 'lo...|[{'iso_3166_1': '...|  1962-01-01|      0|    154|[{'iso_639_1': 'e...|Released|The cities that m...|  Sodom and Gomorrah|False|         5.4|        15|[{'cast_id': 2, '...|[{'credit_id': '5...|\n",
      "|False|/uRnYzCJELrXfuSgg...|                 null|7000000|[{'id': 12, 'name...|                null|43012|tt0056556|               en|         Taras Bulba|Ukraine, 16th cen...|             8.193|/8bnn12yMugSBIKlr...|[{'id': 5940, 'lo...|[{'iso_3166_1': '...|  1962-11-21|4000000|    119|[{'iso_639_1': 'e...|Released|A love story of f...|         Taras Bulba|False|         6.6|        38|[{'cast_id': 6, '...|[{'credit_id': '5...|\n",
      "|False|/s7TUDhHUnWLe3btC...|                 null|      0|[{'id': 10752, 'n...|                null|43013|tt0055871|               en|The Counterfeit T...|Blacklisted in mo...|             4.408|/aV0Lw63PJx8UP5oi...|[{'id': 5015, 'lo...|[{'iso_3166_1': '...|  1962-04-17|      0|    140|[{'iso_639_1': 'd...|Released|                null|The Counterfeit T...|False|         6.6|        15|[{'cast_id': 6, '...|[{'credit_id': '5...|\n",
      "|False|/9f7UO3XXO5mXZbTG...|                 null|      0|[{'id': 36, 'name...|                null|43014|tt0056606|               en|     Tower of London|The twisted Richa...|             5.562|/vUtBsghEBpQyOgW7...|[{'id': 13479, 'l...|[{'iso_3166_1': '...|  1962-10-24|      0|     80|[{'iso_639_1': 'e...|Released|Do you have the c...|     Tower of London|False|         6.1|        27|\"[{'cast_id': 1, ...|[{'credit_id': '5...|\n",
      "|False|                null|                 null|      0|[{'id': 27, 'name...|                null|43015|tt0056648|               en|Varan the Unbelie...|In an effort to f...|             3.083|/8d1EwryVli1eXO9R...|[{'id': 86054, 'l...|[{'iso_3166_1': '...|  1962-12-07|      0|     70|[{'iso_639_1': 'e...|Released|From a world belo...|Varan the Unbelie...|False|         4.8|        14|\"[{'cast_id': 6, ...|[{'credit_id': '5...|\n",
      "|False|/r0esBnoZpWGBZLoR...|                 null|      0|[{'id': 35, 'name...|                null|43016|tt0056673|               en|Waltz of the Tore...|General Fitzhugh,...|3.5060000000000002|/AlnxKr85KeHjZ8S4...|[{'id': 35265, 'l...|[{'iso_3166_1': '...|  1962-04-12|      0|    105|[{'iso_639_1': 'e...|Released|Meet the General....|Waltz of the Tore...|False|         5.6|         4|[{'cast_id': 2, '...|[{'credit_id': '5...|\n",
      "|False|/2iVOZegXhkuYpzy5...|                 null|      0|[{'id': 18, 'name...|                null|43017|tt0054653|               en|         Back Street|Ambitious but thw...|             3.926|/lILxmYTDGiWTbUf3...|[{'id': 1830, 'lo...|[{'iso_3166_1': '...|  1961-10-11|      0|    107|[{'iso_639_1': 'e...|Released|                null|         Back Street|False|         6.2|         8|[{'cast_id': 1, '...|[{'credit_id': '5...|\n",
      "|False|/5rqr8XCnj0wekMbT...| {'id': 145494, 'n...|      0|[{'id': 35, 'name...|                null|43018|tt0054923|               en|Gidget Goes Hawaiian|\"Francis is despe...|             3.623|/c0D2yn1gcg1QKjHf...|[{'id': 5, 'logo_...|[{'iso_3166_1': '...|  1961-06-02|      0|    101|[{'iso_639_1': 'e...|Released|\"Get Happy! Get w...|Gidget Goes Hawaiian|False|         4.4|         7|\"[{'cast_id': 4, ...|[{'credit_id': '5...|\n",
      "|False|                null|                 null|      0|[{'id': 35, 'name...|http://www.schuks...|43019|tt1703942|               en|Schuks Tshabalala...|Leon Schuster or ...|             2.112|/yLgC7xpShCf7QxtF...|                  []|[{'iso_3166_1': '...|  2010-05-28|      0|     91|[{'iso_639_1': 'e...|Released|                null|Schuks Tshabalala...|False|         5.3|         8|[{'cast_id': 2, '...|[{'credit_id': '5...|\n",
      "|False|/lJPzIsddMSc7aGqv...|                 null|      0|[{'id': 36, 'name...|                null|43020|tt0054756|               it|  Il colosso di Rodi|While on holiday ...|             9.668|/xOt1RCHmGT47XpBf...|[{'id': 4745, 'lo...|[{'iso_3166_1': '...|  1961-06-15|      0|    127|[{'iso_639_1': 'i...|Released|A monster statue ...|The Colossus of R...|False|         6.1|        94|[{'cast_id': 3, '...|[{'credit_id': '5...|\n",
      "|False|                null|                 null|      0|[{'id': 35, 'name...|http://www.myspac...|43021|tt1198142|               en|          Sex Galaxy|One hundred years...|             4.033|/9pzN5XOrzAI1wfJU...|[{'id': 21794, 'l...|[{'iso_3166_1': '...|  2008-08-22|      0|     78|[{'iso_639_1': 'e...|Released|The world's first...|          Sex Galaxy|False|         3.1|         7|[{'cast_id': 2, '...|[{'credit_id': '5...|\n",
      "+-----+--------------------+---------------------+-------+--------------------+--------------------+-----+---------+-----------------+--------------------+--------------------+------------------+--------------------+--------------------+--------------------+------------+-------+-------+--------------------+--------+--------------------+--------------------+-----+------------+----------+--------------------+--------------------+\n",
      "only showing top 20 rows\n",
      "\n"
     ]
    }
   ],
   "source": [
    "df.show()"
   ]
  },
  {
   "cell_type": "code",
   "execution_count": 14,
   "id": "4d20542c",
   "metadata": {},
   "outputs": [
    {
     "name": "stdout",
     "output_type": "stream",
     "text": [
      "+-----+------+----------+------------+-------+---------------------------------------+\n",
      "|id   |budget|popularity|release_date|revenue|title                                  |\n",
      "+-----+------+----------+------------+-------+---------------------------------------+\n",
      "|43000|0     |3.892     |1962-05-23  |0      |The Elusive Corporal                   |\n",
      "|43001|0     |5.482     |1962-11-12  |0      |Sundays and Cybele                     |\n",
      "|43002|0     |8.262     |1962-05-24  |0      |Lonely Are the Brave                   |\n",
      "|43003|0     |7.83      |1975-03-12  |0      |F for Fake                             |\n",
      "|43004|500000|5.694     |1962-10-09  |0      |Long Day's Journey Into Night          |\n",
      "|43006|0     |2.873     |1962-03-09  |0      |My Geisha                              |\n",
      "|43007|0     |3.433     |1962-10-31  |0      |Period of Adjustment                   |\n",
      "|43008|0     |7.869     |1959-03-13  |0      |The Hanging Tree                       |\n",
      "|43010|0     |3.775     |1962-01-01  |0      |Sherlock Holmes and the Deadly Necklace|\n",
      "|43011|0     |7.185     |1962-01-01  |0      |Sodom and Gomorrah                     |\n",
      "+-----+------+----------+------------+-------+---------------------------------------+\n",
      "only showing top 10 rows\n",
      "\n"
     ]
    }
   ],
   "source": [
    "subconjunto.show(10, False)#false no sobreescribe"
   ]
  },
  {
   "cell_type": "code",
   "execution_count": 15,
   "id": "761c1176",
   "metadata": {},
   "outputs": [],
   "source": [
    "#Para calcular los valores faltates\n",
    "#en una columna o en varias\n",
    "#utilizando funciones de PySpark\n",
    "from pyspark.sql.functions import *"
   ]
  },
  {
   "cell_type": "code",
   "execution_count": 16,
   "id": "29e1023f",
   "metadata": {},
   "outputs": [
    {
     "data": {
      "text/plain": [
       "1059"
      ]
     },
     "execution_count": 16,
     "metadata": {},
     "output_type": "execute_result"
    }
   ],
   "source": [
    "df.filter((df['popularity']=='')| df['popularity']\\\n",
    "         .isNull()|isnan(df['popularity'])).count()"
   ]
  },
  {
   "cell_type": "code",
   "execution_count": 20,
   "id": "df3efac5",
   "metadata": {},
   "outputs": [
    {
     "name": "stdout",
     "output_type": "stream",
     "text": [
      "+-----+-------------+---------------------+------+------+--------+---+-------+-----------------+--------------+--------+----------+-----------+--------------------+--------------------+------------+-------+-------+----------------+------+-------+-----+-----+------------+----------+----+---------+\n",
      "|adult|backdrop_path|belongs_to_collection|budget|genres|homepage| id|imdb_id|original_language|original_title|overview|popularity|poster_path|production_companies|production_countries|release_date|revenue|runtime|spoken_languages|status|tagline|title|video|vote_average|vote_count|cast|directors|\n",
      "+-----+-------------+---------------------+------+------+--------+---+-------+-----------------+--------------+--------+----------+-----------+--------------------+--------------------+------------+-------+-------+----------------+------+-------+-----+-----+------------+----------+----+---------+\n",
      "|    0|        52968|               110564|   658|   658|   99919|658|   5575|              658|           658|    3568|      1059|       1059|                1059|                1059|        1487|   1059|   1455|            1455|  1455|  80831| 1455| 1455|        1455|      1456|1455|     1455|\n",
      "+-----+-------------+---------------------+------+------+--------+---+-------+-----------------+--------------+--------+----------+-----------+--------------------+--------------------+------------+-------+-------+----------------+------+-------+-----+-----+------------+----------+----+---------+\n",
      "\n"
     ]
    }
   ],
   "source": [
    "#Calcular todos los valores faltantes en el DF\n",
    "#alias genera un nuuevo dataset con un nuevo\n",
    "#\"nombre\": c = df.alias(\"c\")\n",
    "df.select([count(when((col(c)=='')|col(c).isNull()|isnan(c), c)).alias(c)for c in df.columns]).show()"
   ]
  },
  {
   "cell_type": "code",
   "execution_count": 18,
   "id": "bfeef220",
   "metadata": {},
   "outputs": [
    {
     "name": "stdout",
     "output_type": "stream",
     "text": [
      "+--------------------+-----+\n",
      "|               title|count|\n",
      "+--------------------+-----+\n",
      "|   The Corn Is Green|    2|\n",
      "|Meet The Browns -...|    1|\n",
      "|Morenita, El Esca...|    1|\n",
      "| Father Takes a Wife|    1|\n",
      "|    Taking The Curve|    1|\n",
      "|           Fleshburn|    1|\n",
      "|          Dead Lenny|    1|\n",
      "|El juego de la silla|    1|\n",
      "|              Sargad|    1|\n",
      "|                 Kin|    3|\n",
      "|I Don't Feel at H...|    1|\n",
      "|Penguins of Madag...|    1|\n",
      "| Ormayundo Ee Mukham|    1|\n",
      "|         Eat With Me|    1|\n",
      "|  Ainda Há Pastores?|    1|\n",
      "|The Werewolf of W...|    1|\n",
      "|    Conquering China|    1|\n",
      "|Discovering the R...|    1|\n",
      "|My Wife Is a Gang...|    1|\n",
      "|Depeche Mode: Tou...|    1|\n",
      "+--------------------+-----+\n",
      "only showing top 20 rows\n",
      "\n"
     ]
    }
   ],
   "source": [
    "#Calcular las frecuencias por categoria(columna)\n",
    "df.groupBy(df['title']).count().show()"
   ]
  },
  {
   "cell_type": "code",
   "execution_count": 22,
   "id": "4bfea76c",
   "metadata": {},
   "outputs": [
    {
     "name": "stdout",
     "output_type": "stream",
     "text": [
      "+--------------------+-----+\n",
      "|title               |count|\n",
      "+--------------------+-----+\n",
      "|null                |1455 |\n",
      "|Mother              |14   |\n",
      "|Treasure Island     |13   |\n",
      "|The Intruder        |13   |\n",
      "|Macbeth             |13   |\n",
      "|Cinderella          |12   |\n",
      "|Alone               |12   |\n",
      "|The Three Musketeers|12   |\n",
      "|First Love          |12   |\n",
      "|Desire              |12   |\n",
      "+--------------------+-----+\n",
      "only showing top 10 rows\n",
      "\n"
     ]
    }
   ],
   "source": [
    "df.groupBy(df['title']).count().sort(desc('count')).show(10, False)"
   ]
  },
  {
   "cell_type": "code",
   "execution_count": 24,
   "id": "ff5e5936",
   "metadata": {},
   "outputs": [],
   "source": [
    "#Creando un subconjnto temporal del DF\n",
    "#Elimina cualquier valor faltante\n",
    "temp= df.filter((df['title']!='')&(df['title'].isNotNull())&(~isnan(df['title'])))"
   ]
  },
  {
   "cell_type": "code",
   "execution_count": 26,
   "id": "380ef814",
   "metadata": {},
   "outputs": [
    {
     "name": "stdout",
     "output_type": "stream",
     "text": [
      "+--------------------+-----+\n",
      "|title               |count|\n",
      "+--------------------+-----+\n",
      "|Mother              |14   |\n",
      "|Treasure Island     |13   |\n",
      "|The Intruder        |13   |\n",
      "|Macbeth             |13   |\n",
      "|The Three Musketeers|12   |\n",
      "|Desire              |12   |\n",
      "|Cinderella          |12   |\n",
      "|Alone               |12   |\n",
      "|First Love          |12   |\n",
      "|Beauty and the Beast|11   |\n",
      "+--------------------+-----+\n",
      "only showing top 10 rows\n",
      "\n"
     ]
    }
   ],
   "source": [
    "temp.groupBy(temp['title']).count().filter(\"`count` > 4\").sort(col(\"count\").desc()).show(10,False)"
   ]
  },
  {
   "cell_type": "code",
   "execution_count": 28,
   "id": "8279bf91",
   "metadata": {},
   "outputs": [
    {
     "name": "stdout",
     "output_type": "stream",
     "text": [
      "+--------------------+-----+\n",
      "|               title|count|\n",
      "+--------------------+-----+\n",
      "|              Mother|   14|\n",
      "|             Macbeth|   13|\n",
      "|        The Intruder|   13|\n",
      "|     Treasure Island|   13|\n",
      "|          Cinderella|   12|\n",
      "|               Alone|   12|\n",
      "|The Three Musketeers|   12|\n",
      "|          First Love|   12|\n",
      "|              Desire|   12|\n",
      "|   A Christmas Carol|   11|\n",
      "|                Love|   11|\n",
      "|               Angel|   11|\n",
      "|                Anna|   11|\n",
      "|              Hamlet|   11|\n",
      "|             Revenge|   11|\n",
      "|Beauty and the Beast|   11|\n",
      "|        The Outsider|   10|\n",
      "|           Honeymoon|   10|\n",
      "|            Blackout|   10|\n",
      "|      Les Misérables|   10|\n",
      "+--------------------+-----+\n",
      "only showing top 20 rows\n",
      "\n"
     ]
    }
   ],
   "source": [
    "temp.groupBy(temp['title']).count().filter(\"`count` >= 4\").sort(col(\"count\").desc()).show()"
   ]
  },
  {
   "cell_type": "code",
   "execution_count": 29,
   "id": "195d848e",
   "metadata": {},
   "outputs": [],
   "source": [
    "#Borrar los DF\n",
    "del temp"
   ]
  },
  {
   "cell_type": "code",
   "execution_count": 30,
   "id": "f8772322",
   "metadata": {},
   "outputs": [
    {
     "data": {
      "text/plain": [
       "[('adult', 'string'),\n",
       " ('backdrop_path', 'string'),\n",
       " ('belongs_to_collection', 'string'),\n",
       " ('budget', 'string'),\n",
       " ('genres', 'string'),\n",
       " ('homepage', 'string'),\n",
       " ('id', 'string'),\n",
       " ('imdb_id', 'string'),\n",
       " ('original_language', 'string'),\n",
       " ('original_title', 'string'),\n",
       " ('overview', 'string'),\n",
       " ('popularity', 'string'),\n",
       " ('poster_path', 'string'),\n",
       " ('production_companies', 'string'),\n",
       " ('production_countries', 'string'),\n",
       " ('release_date', 'string'),\n",
       " ('revenue', 'string'),\n",
       " ('runtime', 'string'),\n",
       " ('spoken_languages', 'string'),\n",
       " ('status', 'string'),\n",
       " ('tagline', 'string'),\n",
       " ('title', 'string'),\n",
       " ('video', 'string'),\n",
       " ('vote_average', 'string'),\n",
       " ('vote_count', 'string'),\n",
       " ('cast', 'string'),\n",
       " ('directors', 'string')]"
      ]
     },
     "execution_count": 30,
     "metadata": {},
     "output_type": "execute_result"
    }
   ],
   "source": [
    "df.dtypes"
   ]
  },
  {
   "cell_type": "code",
   "execution_count": 31,
   "id": "41cf1268",
   "metadata": {},
   "outputs": [],
   "source": [
    "#Convertir budget a float\n",
    "df = df.withColumn(\"budget\", df[\"budget\"].cast(\"float\"))"
   ]
  },
  {
   "cell_type": "code",
   "execution_count": 33,
   "id": "6d9135f3",
   "metadata": {},
   "outputs": [
    {
     "data": {
      "text/plain": [
       "[('adult', 'string'),\n",
       " ('backdrop_path', 'string'),\n",
       " ('belongs_to_collection', 'string'),\n",
       " ('budget', 'float'),\n",
       " ('genres', 'string'),\n",
       " ('homepage', 'string'),\n",
       " ('id', 'string'),\n",
       " ('imdb_id', 'string'),\n",
       " ('original_language', 'string'),\n",
       " ('original_title', 'string'),\n",
       " ('overview', 'string'),\n",
       " ('popularity', 'string'),\n",
       " ('poster_path', 'string'),\n",
       " ('production_companies', 'string'),\n",
       " ('production_countries', 'string'),\n",
       " ('release_date', 'string'),\n",
       " ('revenue', 'string'),\n",
       " ('runtime', 'string'),\n",
       " ('spoken_languages', 'string'),\n",
       " ('status', 'string'),\n",
       " ('tagline', 'string'),\n",
       " ('title', 'string'),\n",
       " ('video', 'string'),\n",
       " ('vote_average', 'string'),\n",
       " ('vote_count', 'string'),\n",
       " ('cast', 'string'),\n",
       " ('directors', 'string')]"
      ]
     },
     "execution_count": 33,
     "metadata": {},
     "output_type": "execute_result"
    }
   ],
   "source": [
    "df.dtypes"
   ]
  },
  {
   "cell_type": "code",
   "execution_count": 34,
   "id": "d7302ab7",
   "metadata": {},
   "outputs": [],
   "source": [
    "from pyspark.sql.types import *"
   ]
  },
  {
   "cell_type": "code",
   "execution_count": 35,
   "id": "d5c77a53",
   "metadata": {},
   "outputs": [],
   "source": [
    "int_vars = [\"id\"]\n",
    "float_vars = [\"budget\", \"popularity\", \"revenue\"] #RECAUDACION\n",
    "date_vars = [\"release_date\"]"
   ]
  },
  {
   "cell_type": "code",
   "execution_count": 37,
   "id": "c34004ac",
   "metadata": {},
   "outputs": [],
   "source": [
    "for c in int_vars:\n",
    "    df = df.withColumn(c, df[c].cast(IntegerType()))\n",
    "for c in float_vars:\n",
    "    df = df.withColumn(c, df[c].cast(FloatType()))\n",
    "for c in date_vars:\n",
    "    df = df.withColumn(c, df[c].cast(DateType()))"
   ]
  },
  {
   "cell_type": "code",
   "execution_count": 38,
   "id": "c03f7180",
   "metadata": {},
   "outputs": [
    {
     "data": {
      "text/plain": [
       "[('adult', 'string'),\n",
       " ('backdrop_path', 'string'),\n",
       " ('belongs_to_collection', 'string'),\n",
       " ('budget', 'float'),\n",
       " ('genres', 'string'),\n",
       " ('homepage', 'string'),\n",
       " ('id', 'int'),\n",
       " ('imdb_id', 'string'),\n",
       " ('original_language', 'string'),\n",
       " ('original_title', 'string'),\n",
       " ('overview', 'string'),\n",
       " ('popularity', 'float'),\n",
       " ('poster_path', 'string'),\n",
       " ('production_companies', 'string'),\n",
       " ('production_countries', 'string'),\n",
       " ('release_date', 'date'),\n",
       " ('revenue', 'float'),\n",
       " ('runtime', 'string'),\n",
       " ('spoken_languages', 'string'),\n",
       " ('status', 'string'),\n",
       " ('tagline', 'string'),\n",
       " ('title', 'string'),\n",
       " ('video', 'string'),\n",
       " ('vote_average', 'string'),\n",
       " ('vote_count', 'string'),\n",
       " ('cast', 'string'),\n",
       " ('directors', 'string')]"
      ]
     },
     "execution_count": 38,
     "metadata": {},
     "output_type": "execute_result"
    }
   ],
   "source": [
    "df.dtypes"
   ]
  },
  {
   "cell_type": "code",
   "execution_count": 39,
   "id": "407218af",
   "metadata": {
    "collapsed": true
   },
   "outputs": [
    {
     "name": "stdout",
     "output_type": "stream",
     "text": [
      "+-----+--------------------------------+---------------------+--------+-----------------------------------------------------------------------------------------------------------------------------+--------+-----+---------+-----------------+------------------------------------------+----------------------------------------------------------------------------------------------------------------------------------------------------------------------------------------------------------------------------------------------------------------------------------------------------------------------------------------------------------------------------------------------------------------------------------------------------------------------------------------------+----------+--------------------------------+--------------------------------------------------------------------------------------------------------------------------------------------------------------------------------------------------------------------------------------------------------------------------------------------------------------------------------------------------------------------+-----------------------------------------------------------------------------------------------------------------------------------------+------------+-------+-------+-------------------------------------------------------------------------------------------------------------------------+--------+----------------------------------------------------------------------------------------+---------------------------------------+-----+------------+----------+--------------------------------------------------------------------------------------------------------------------------------------------------------------------------------------------------------------------------------------------------------------------------------------------------------------------------------------------------------------------------------------------------------------------------------------------------------------------------------------------------------------------------------------------------------------------------------------------------------------------------------------------------------------------------------------------------------------------------------------------------------------------------------------------------------------------------------------------------------------------------------------------------------------------------------------------------------------------------------------------------------------------------------------------------------------------------------------------------------------------------------------------------------------------------------------------------------------------------------------------------------------------------------------------------------------------------------------------------------------------------------------------------------------------------------------------------------------------------------------------------------------------------------------------------------------------------------------------------------------------------------------------------------------------------------------------------------------------------------------------------------------------------------------------------------------------------------------------------------------------------------------------------------------------------------------------------------------------------------------------------------------------------------------------------------------------------------------------------------------------------------------------------------------------------------------------------------------------------------------------------------------------------------------------------------------------------------------------------------------------------------------------------------------------------------------------------------------------------------------------------------------------------------------------------------------------------------------------------------------------------------------------------------------------------------------------------------------------------------------------------------------------------------------------------------------------------------------------------------------------------------------------------------------------------------------------------------------------------------------------------------------------------------------------------------------------------------------------------------------------------------------------------------------------------------------------------------------------------------------------------------------------------------------------------------------------------------------------------------------------------------------------------------------------------------------------------------------------------------------------------------------------------------------------------------------------------------------------------------------------------------------------------------------------------------------------------------------------------------------------------------------------------------------------------------------------------------------------------------------------------------------------------------------------------------------------------------------------------------------------------------------------------------------------------------------------------------------------------------------------------------------------------------------------------------------------------------------------------------------------------------------------------------------------------------------------------------------------------------------------------------------------------------------------------------------------------------------------------------------------------------------------------------------------------------------------------------------------------------------------------------------------------------------------------------------------------------------------------------------------------------------------------------------------------------------------------------------------------------------------------------------------------------------------------------------------------------------------------------------------------------------------------------------------------------------------------------------------------------------------------------------------------------------------------------------------------------------------------------------------------------------------------------------------------------------------------------------------------------------------------------------------------------------------------------------------------------------------------------------------------------------------------------------------------------------------------------------------------------------------------------------------------------------------------------------------------------------------------------------------------------------------------------------------------------------------------------------------------------------------------------------------------------------------------------------------------------------------------------------------------------------------------------------------------------------------------------------------------------------------------------------------------------------------------------------------------------------------------------------------------------------------------------------------------------------------------------------------------------------------------------------------------------------------------------------------------------------------------------------------------------------------------------------------------------------------------------------+-------------------------------------------------------------------------------------------------------------------------------------------------------------------------------------------------+\n",
      "|adult|backdrop_path                   |belongs_to_collection|budget  |genres                                                                                                                       |homepage|id   |imdb_id  |original_language|original_title                            |overview                                                                                                                                                                                                                                                                                                                                                                                                                                                                                      |popularity|poster_path                     |production_companies                                                                                                                                                                                                                                                                                                                                                |production_countries                                                                                                                     |release_date|revenue|runtime|spoken_languages                                                                                                         |status  |tagline                                                                                 |title                                  |video|vote_average|vote_count|cast                                                                                                                                                                                                                                                                                                                                                                                                                                                                                                                                                                                                                                                                                                                                                                                                                                                                                                                                                                                                                                                                                                                                                                                                                                                                                                                                                                                                                                                                                                                                                                                                                                                                                                                                                                                                                                                                                                                                                                                                                                                                                                                                                                                                                                                                                                                                                                                                                                                                                                                                                                                                                                                                                                                                                                                                                                                                                                                                                                                                                                                                                                                                                                                                                                                                                                                                                                                                                                                                                                                                                                                                                                                                                                                                                                                                                                                                                                                                                                                                                                                                                                                                                                                                                                                                                                                                                                                                                                                                                                                                                                                                                                                                                                                                                                                                                                                                                                                                                                                                                                                                                                                                                                                                                                                                                                                                                                                                                                                                                                                                                                                                                                                                                                                                                                                                                                                                                                                                                                                                                                                                                                                                                                                                                                                                                                                                                                                                                                                                                                                                                                                  |directors                                                                                                                                                                                        |\n",
      "+-----+--------------------------------+---------------------+--------+-----------------------------------------------------------------------------------------------------------------------------+--------+-----+---------+-----------------+------------------------------------------+----------------------------------------------------------------------------------------------------------------------------------------------------------------------------------------------------------------------------------------------------------------------------------------------------------------------------------------------------------------------------------------------------------------------------------------------------------------------------------------------+----------+--------------------------------+--------------------------------------------------------------------------------------------------------------------------------------------------------------------------------------------------------------------------------------------------------------------------------------------------------------------------------------------------------------------+-----------------------------------------------------------------------------------------------------------------------------------------+------------+-------+-------+-------------------------------------------------------------------------------------------------------------------------+--------+----------------------------------------------------------------------------------------+---------------------------------------+-----+------------+----------+--------------------------------------------------------------------------------------------------------------------------------------------------------------------------------------------------------------------------------------------------------------------------------------------------------------------------------------------------------------------------------------------------------------------------------------------------------------------------------------------------------------------------------------------------------------------------------------------------------------------------------------------------------------------------------------------------------------------------------------------------------------------------------------------------------------------------------------------------------------------------------------------------------------------------------------------------------------------------------------------------------------------------------------------------------------------------------------------------------------------------------------------------------------------------------------------------------------------------------------------------------------------------------------------------------------------------------------------------------------------------------------------------------------------------------------------------------------------------------------------------------------------------------------------------------------------------------------------------------------------------------------------------------------------------------------------------------------------------------------------------------------------------------------------------------------------------------------------------------------------------------------------------------------------------------------------------------------------------------------------------------------------------------------------------------------------------------------------------------------------------------------------------------------------------------------------------------------------------------------------------------------------------------------------------------------------------------------------------------------------------------------------------------------------------------------------------------------------------------------------------------------------------------------------------------------------------------------------------------------------------------------------------------------------------------------------------------------------------------------------------------------------------------------------------------------------------------------------------------------------------------------------------------------------------------------------------------------------------------------------------------------------------------------------------------------------------------------------------------------------------------------------------------------------------------------------------------------------------------------------------------------------------------------------------------------------------------------------------------------------------------------------------------------------------------------------------------------------------------------------------------------------------------------------------------------------------------------------------------------------------------------------------------------------------------------------------------------------------------------------------------------------------------------------------------------------------------------------------------------------------------------------------------------------------------------------------------------------------------------------------------------------------------------------------------------------------------------------------------------------------------------------------------------------------------------------------------------------------------------------------------------------------------------------------------------------------------------------------------------------------------------------------------------------------------------------------------------------------------------------------------------------------------------------------------------------------------------------------------------------------------------------------------------------------------------------------------------------------------------------------------------------------------------------------------------------------------------------------------------------------------------------------------------------------------------------------------------------------------------------------------------------------------------------------------------------------------------------------------------------------------------------------------------------------------------------------------------------------------------------------------------------------------------------------------------------------------------------------------------------------------------------------------------------------------------------------------------------------------------------------------------------------------------------------------------------------------------------------------------------------------------------------------------------------------------------------------------------------------------------------------------------------------------------------------------------------------------------------------------------------------------------------------------------------------------------------------------------------------------------------------------------------------------------------------------------------------------------------------------------------------------------------------------------------------------------------------------------------------------------------------------------------------------------------------------------------------------------------------------------------------------------------------------------------------------------------------------------------------------------------------------------------------------------------------------------------------------+-------------------------------------------------------------------------------------------------------------------------------------------------------------------------------------------------+\n",
      "|False|/zjLR7DbWujKiG7VhtjQ4r3gsjou.jpg|null                 |0.0     |[{'id': 35, 'name': 'Comedy'}, {'id': 18, 'name': 'Drama'}, {'id': 10752, 'name': 'War'}]                                    |null    |43000|tt0055827|fr               |Le Caporal épinglé                        |The story serves as a companion piece to Renoir's 1937 film, Grand Illusion, once more bringing together men from across the broad social spectrum of French society to depict one man's Sisyphean efforts to escape captivity in a German POW camp.                                                                                                                                                                                                                                          |3.892     |/uagTKYLsRxVq5cfCMJNyOnlfUxz.jpg|[{'id': 16059, 'logo_path': None, 'name': 'Les Films du Cyclope', 'origin_country': 'FR'}]                                                                                                                                                                                                                                                                          |[{'iso_3166_1': 'FR', 'name': 'France'}]                                                                                                 |1962-05-23  |0.0    |90     |[{'iso_639_1': 'fr', 'name': 'Français'}, {'iso_639_1': 'de', 'name': 'Deutsch'}]                                        |Released|null                                                                                    |The Elusive Corporal                   |False|5.9         |10        |[{'cast_id': 3, 'character': 'Caporal', 'credit_id': '52fe4626c3a36847f80ef695', 'gender': 2, 'id': 19162, 'name': 'Jean-Pierre Cassel', 'order': 0, 'profile_path': '/iCZ9CFw55lwdERGuIEFrkpOdaBi.jpg'}, {'cast_id': 4, 'character': 'Papa', 'credit_id': '52fe4626c3a36847f80ef699', 'gender': 2, 'id': 1958, 'name': 'Claude Brasseur', 'order': 1, 'profile_path': '/A5BUh4QqXmFIhJMcD0rDFracPvL.jpg'}, {'cast_id': 5, 'character': 'Ballochet', 'credit_id': '52fe4626c3a36847f80ef69d', 'gender': 2, 'id': 24903, 'name': 'Claude Rich', 'order': 2, 'profile_path': '/pFKzxPQsAIbVsAhrDvp974U9Ras.jpg'}, {'cast_id': 6, 'character': 'Émile', 'credit_id': '52fe4626c3a36847f80ef6a1', 'gender': 2, 'id': 24540, 'name': 'Jean Carmet', 'order': 3, 'profile_path': '/dKtbIjEH9FI8Oa55uI5n8BA5qGK.jpg'}, {'cast_id': 7, 'character': 'Penche-à-gauche', 'credit_id': '52fe4626c3a36847f80ef6a5', 'gender': 2, 'id': 70142, 'name': 'Jacques Jouanneau', 'order': 4, 'profile_path': '/6U6jS7QVGOBABSQIhjqGQ1RCoOs.jpg'}, {'cast_id': 8, 'character': 'Caruso', 'credit_id': '52fe4626c3a36847f80ef6a9', 'gender': 2, 'id': 28189, 'name': 'Mario David', 'order': 5, 'profile_path': '/AqUXJB3qn6ihZ745806cR82kd5f.jpg'}, {'cast_id': 9, 'character': 'Le bèque', 'credit_id': '52fe4626c3a36847f80ef6ad', 'gender': 2, 'id': 25179, 'name': 'Guy Bedos', 'order': 6, 'profile_path': '/xwUouUimcmOwwfyRkwBVsvum3vL.jpg'}, {'cast_id': 10, 'character': 'le prisonnier électricien', 'credit_id': '52fe4626c3a36847f80ef6b1', 'gender': 2, 'id': 278368, 'name': 'Philippe Castelli', 'order': 7, 'profile_path': '/wibBdQJ8ILvQ5aR1MhxNMbqXpxr.jpg'}, {'cast_id': 11, 'character': 'Reisender', 'credit_id': '566dc32892514125d300703c', 'gender': 2, 'id': 38244, 'name': 'O.E. Hasse', 'order': 8, 'profile_path': '/bSpUiYizOWjuOGNyBSNKI9rv1Qo.jpg'}, {'cast_id': 12, 'character': 'Erika Schmidt', 'credit_id': '566dc34d9251412dbc007059', 'gender': 1, 'id': 1857, 'name': 'Cornelia Froboess', 'order': 9, 'profile_path': '/7G75SjsdhqHBJYg1WzECPH3TYP.jpg'}]                                                                                                                                                                                                                                                                                                                                                                                                                                                                                                                                                                                                                                                                                                                                                                                                                                                                                                                                                                                                                                                                                                                                                                                                                                                                                                                                                                                                                                                                                                                                                                                                                                                                                                                                                                                                                                                                                                                                                                                                                                                                                                                                                                                                                                                                                                                                                                                                                                                                                                                                                                                                                                                                                                                                                                                                                                                                                                                                                                                                                                                                                                                                                                                                                                                                                                                                                                                                                                                                                                                                                                                                                                                                                                                                                                                                                                                                                                                                                                                                                                                                                                                                                                                                                                                                                                                                                                                                                                                                                                        |[{'credit_id': '52fe4626c3a36847f80ef68b', 'department': 'Directing', 'gender': 2, 'id': 11528, 'job': 'Director', 'name': 'Jean Renoir', 'profile_path': '/oN93wdY94BIVDQVbFfHGOBCk3L.jpg'}]    |\n",
      "|False|null                            |null                 |0.0     |[{'id': 18, 'name': 'Drama'}]                                                                                                |null    |43001|tt0055910|fr               |Cybèle ou les dimanches de ville d'Avray  |The tragic story of a young orphan girl who is befriended by an innocent but emotionally disabled veteran of the French Indochina War.                                                                                                                                                                                                                                                                                                                                                        |5.482     |/sTx0bYeq1OtKOGZSsbsY8zlhnZK.jpg|[{'id': 7808, 'logo_path': None, 'name': 'Fidès', 'origin_country': ''}, {'id': 101713, 'logo_path': None, 'name': 'Les Films Trocadero', 'origin_country': ''}, {'id': 2325, 'logo_path': None, 'name': 'Orsay Films', 'origin_country': ''}]                                                                                                                      |[{'iso_3166_1': 'AT', 'name': 'Austria'}, {'iso_3166_1': 'FR', 'name': 'France'}]                                                        |1962-11-12  |0.0    |110    |[{'iso_639_1': 'fr', 'name': 'Français'}]                                                                                |Released|null                                                                                    |Sundays and Cybele                     |False|7.4         |28        |\"[{'cast_id': 4, 'character': 'Pierre', 'credit_id': '52fe4626c3a36847f80ef6d7', 'gender': 2, 'id': 37777, 'name': 'Hardy Krüger', 'order': 0, 'profile_path': '/mCAYIY4DDIaYnCEoGdRL7t1sw4Z.jpg'}, {'cast_id': 5, 'character': 'Madeleine', 'credit_id': '52fe4626c3a36847f80ef6db', 'gender': 1, 'id': 112198, 'name': 'Nicole Courcel', 'order': 1, 'profile_path': '/1pQJujlsaVip4k65QpgLftgOrfL.jpg'}, {'cast_id': 6, 'character': 'Françoise/Cybèle', 'credit_id': '52fe4626c3a36847f80ef6df', 'gender': 0, 'id': 999598, 'name': 'Patricia Gozzi', 'order': 2, 'profile_path': None}, {'cast_id': 7, 'character': 'Carlos', 'credit_id': '52fe4626c3a36847f80ef6e3', 'gender': 2, 'id': 34679, 'name': 'Daniel Ivernel', 'order': 3, 'profile_path': '/idrRBz3vaeCIIUU3vKppuyN3ueD.jpg'}, {'cast_id': 8, 'character': 'Bernard', 'credit_id': '5a9c7f9fc3a3680bb9035866', 'gender': 2, 'id': 17482, 'name': 'André Oumansky', 'order': 4, 'profile_path': '/ezlKFaTsAQjIePtLpFHF7uMWebh.jpg'}, {'cast_id': 9, 'character': 'Françoise II', 'credit_id': '5a9c7fa70e0a2605f2039326', 'gender': 1, 'id': 28606, 'name': 'Anne-Marie Coffinet', 'order': 5, 'profile_path': '/zKI1wnuVJorc7d1CAzkplrxZbfU.jpg'}, {'cast_id': 10, 'character': 'Le facteur', 'credit_id': '5a9c7fb29251412896037b5b', 'gender': 2, 'id': 1304793, 'name': 'René Clermont', 'order': 6, 'profile_path': None}, {'cast_id': 11, 'character': 'La voyante', 'credit_id': '5a9c7fbe0e0a26061103d476', 'gender': 1, 'id': 38890, 'name': 'Malka Ribowska', 'order': 7, 'profile_path': '/sqWqzm4qLr3IL6zjZLtip9grCLY.jpg'}, {'cast_id': 12, 'character': 'Fiacre', 'credit_id': '5a9c7fcc0e0a2605d503b90b', 'gender': 0, 'id': 589404, 'name': 'Michel de Ré', 'order': 8, 'profile_path': None}, {'cast_id': 13, 'character': 'Lulu', 'credit_id': '5a9c7fd60e0a2605f2039341', 'gender': 1, 'id': 185247, 'name': 'France Anglade', 'order': 9, 'profile_path': '/qd7ugucZuaAgfwKTzaPecsKRadd.jpg'}, {'cast_id': 14, 'character': \"\"L'épicier\"\", 'credit_id': '5a9c7feb0e0a2605e403f6a5', 'gender': 2, 'id': 41716, 'name': 'Paul Bonifas', 'order': 10, 'profile_path': '/dBzm84nvzxtUsR4a6Dx5f0DA7F7.jpg'}, {'cast_id': 15, 'character': 'Le cavalier', 'credit_id': '5a9c7ff892514127ea03870c', 'gender': 2, 'id': 605481, 'name': 'Serge Bourguignon', 'order': 11, 'profile_path': None}, {'cast_id': 16, 'character': \"\"L'employé de gare\"\", 'credit_id': '5a9c80030e0a26064903c3ca', 'gender': 2, 'id': 927652, 'name': 'Alain Bouvette', 'order': 12, 'profile_path': None}, {'cast_id': 17, 'character': \"\"L'épicière\"\", 'credit_id': '5a9c8012925141284203627f', 'gender': 1, 'id': 1990767, 'name': 'Renée Duchateau', 'order': 13, 'profile_path': None}, {'cast_id': 18, 'character': '', 'credit_id': '5a9c801992514128cc0384d8', 'gender': 1, 'id': 572398, 'name': 'Florence Blot', 'order': 14, 'profile_path': None}]\"                                                                                                                                                                                                                                                                                                                                                                                                                                                                                                                                                                                                                                                                                                                                                                                                                                                                                                                                                                                                                                                                                                                                                                                                                                                                                                                                                                                                                                                                                                                                                                                                                                                                                                                                                                                                                                                                                                                                                                                                                                                                                                                                                                                                                                                                                                                                                                                                                                                                                                                                                                                                                                                                                                                                                                                                                                                                                                                                                                                                                                                                                                                                                                                                                                                                                                                                                                                                                                                                                                                                                                                                                                                               |[{'credit_id': '52fe4626c3a36847f80ef6c7', 'department': 'Directing', 'gender': 2, 'id': 605481, 'job': 'Director', 'name': 'Serge Bourguignon', 'profile_path': None}]                          |\n",
      "|False|/7hbpOpGDOYZ4G8ddLuzNmzxZP6.jpg |null                 |0.0     |[{'id': 18, 'name': 'Drama'}, {'id': 37, 'name': 'Western'}]                                                                 |null    |43002|tt0056195|en               |Lonely Are the Brave                      |A fiercely independent cowboy arranges to have himself locked up in jail in order to then escape with an old friend who has been sentenced to the penitentiary.                                                                                                                                                                                                                                                                                                                               |8.262     |/h5gaDp7FurCVfUCIceZxcP3eaXG.jpg|[{'id': 3810, 'logo_path': None, 'name': 'Joel Productions', 'origin_country': ''}]                                                                                                                                                                                                                                                                                 |[{'iso_3166_1': 'US', 'name': 'United States of America'}]                                                                               |1962-05-24  |0.0    |107    |[{'iso_639_1': 'es', 'name': 'Español'}, {'iso_639_1': 'en', 'name': 'English'}]                                         |Released|Life can never cage a man like this!                                                    |Lonely Are the Brave                   |False|7.5         |70        |\"[{'cast_id': 1, 'character': 'John W. \"\"Jack\"\" Burns', 'credit_id': '52fe4626c3a36847f80ef705', 'gender': 2, 'id': 2090, 'name': 'Kirk Douglas', 'order': 0, 'profile_path': '/tsuLHw2TD8EtvIAEgYQu9l2kQkC.jpg'}, {'cast_id': 2, 'character': 'Jerry Bondi', 'credit_id': '52fe4626c3a36847f80ef709', 'gender': 1, 'id': 4800, 'name': 'Gena Rowlands', 'order': 1, 'profile_path': '/qkEeCpF7k4fE1QNQeYf2fdMpu6q.jpg'}, {'cast_id': 3, 'character': 'Sheriff Morey Johnson', 'credit_id': '52fe4626c3a36847f80ef70d', 'gender': 2, 'id': 6837, 'name': 'Walter Matthau', 'order': 2, 'profile_path': '/c3dCBlyf12yTNhS2sdSXRFaBatj.jpg'}, {'cast_id': 4, 'character': 'Hinton', 'credit_id': '52fe4626c3a36847f80ef711', 'gender': 2, 'id': 26512, 'name': \"\"Carroll O'Connor\"\", 'order': 3, 'profile_path': '/28NNmJGHFzdEK0GJLhL4NnGpmF7.jpg'}, {'cast_id': 6, 'character': 'Harry', 'credit_id': '52fe4626c3a36847f80ef719', 'gender': 2, 'id': 15992, 'name': 'William Schallert', 'order': 4, 'profile_path': '/862YCXRbmhADXVC0RaxfwNT9g4E.jpg'}, {'cast_id': 7, 'character': 'Deputy Sheriff Gutierrez', 'credit_id': '52fe4626c3a36847f80ef71d', 'gender': 2, 'id': 12950, 'name': 'George Kennedy', 'order': 5, 'profile_path': '/fT8UklgKbgK7ggZvqWwsai6Bh0g.jpg'}, {'cast_id': 5, 'character': 'Paul Bondi', 'credit_id': '52fe4626c3a36847f80ef715', 'gender': 2, 'id': 72659, 'name': 'Michael Kane', 'order': 6, 'profile_path': None}, {'cast_id': 8, 'character': 'Rev. Hoskins (prison inmate)', 'credit_id': '52fe4626c3a36847f80ef721', 'gender': 2, 'id': 12158, 'name': 'Karl Swenson', 'order': 7, 'profile_path': '/5VZ6exiXp5PY7EhgyPEeUHfB7wJ.jpg'}, {'cast_id': 9, 'character': 'First deputy arraigning Burns', 'credit_id': '52fe4626c3a36847f80ef725', 'gender': 2, 'id': 137389, 'name': 'William Mims', 'order': 8, 'profile_path': None}, {'cast_id': 10, 'character': 'Old Man', 'credit_id': '52fe4626c3a36847f80ef729', 'gender': 2, 'id': 94401, 'name': 'Martín Garralaga', 'order': 9, 'profile_path': '/glBr164choVkEaQDpsUJAPzQYq9.jpg'}, {'cast_id': 25, 'character': 'Airman in Helicopter', 'credit_id': '5a073ef1c3a3685f8100299c', 'gender': 2, 'id': 19138, 'name': 'Bill Bixby', 'order': 10, 'profile_path': '/eKcpqTutiVxQeAPbwupjSV5DXE.jpg'}, {'cast_id': 26, 'character': 'Deputy', 'credit_id': '5a073f0dc3a3685f810029bd', 'gender': 2, 'id': 133832, 'name': 'George Keymas', 'order': 11, 'profile_path': '/paSclJPl1F29y2N2aGZUUp0m1cW.jpg'}, {'cast_id': 27, 'character': 'Deputy in Canyon', 'credit_id': '5a073f1c9251410775002ae6', 'gender': 2, 'id': 40577, 'name': 'Harry Lauter', 'order': 12, 'profile_path': '/b1bgW9udq1WtUth8SxU1bUUGsV1.jpg'}, {'cast_id': 11, 'character': 'Prisoner', 'credit_id': '52fe4626c3a36847f80ef72d', 'gender': 2, 'id': 94894, 'name': 'Lalo Rios', 'order': 13, 'profile_path': None}, {'cast_id': 28, 'character': 'One Arm', 'credit_id': '5a073f2bc3a3685ed6002c10', 'gender': 0, 'id': 1242437, 'name': 'Bill Raisch', 'order': 14, 'profile_path': None}, {'cast_id': 29, 'character': 'Navajo Prisoner Who Escapes', 'credit_id': '5a073f429251410735002dc3', 'gender': 0, 'id': 565200, 'name': 'Vince St. Cyr', 'order': 15, 'profile_path': None}]\"                                                                                                                                                                                                                                                                                                                                                                                                                                                                                                                                                                                                                                                                                                                                                                                                                                                                                                                                                                                                                                                                                                                                                                                                                                                                                                                                                                                                                                                                                                                                                                                                                                                                                                                                                                                                                                                                                                                                                                                                                                                                                                                                                                                                                                                                                                                                                                                                                                                                                                                                                                                                                                                                                                                                                                                                                                                                                                                                                                                                                                                                                                                                                                                                                                                                                                                     |[{'credit_id': '52fe4626c3a36847f80ef733', 'department': 'Directing', 'gender': 2, 'id': 73256, 'job': 'Director', 'name': 'David Miller', 'profile_path': '/k43xGVyc8hkfDycwRGUeR6QbbLI.jpg'}]  |\n",
      "|False|/28a0wvZb8kyjVBd6BcPEnrHbrhm.jpg|null                 |0.0     |[{'id': 99, 'name': 'Documentary'}]                                                                                          |null    |43003|tt0072962|fr               |Vérités et Mensonges                      |Documents the lives of infamous fakers Elmyr de Hory and Clifford Irving. De Hory, who later committed suicide to avoid more prison time, made his name by selling forged works of art by painters like Picasso and Matisse. Irving was infamous for writing a fake autobiography of Howard Hughes. Welles moves between documentary and fiction as he examines the fundamental elements of fraud and the people who commit fraud at the expense of others.                                   |7.83      |/qe6uEkCFGzY4j3nBLIEfEibubzC.jpg|[{'id': 36547, 'logo_path': None, 'name': 'SACI', 'origin_country': 'IR'}, {'id': 533, 'logo_path': None, 'name': 'Janus Films', 'origin_country': ''}]                                                                                                                                                                                                             |[{'iso_3166_1': 'DE', 'name': 'Germany'}, {'iso_3166_1': 'FR', 'name': 'France'}, {'iso_3166_1': 'IR', 'name': 'Iran'}]                  |1975-03-12  |0.0    |89     |[{'iso_639_1': 'en', 'name': 'English'}, {'iso_639_1': 'fr', 'name': 'Français'}, {'iso_639_1': 'es', 'name': 'Español'}]|Released|null                                                                                    |F for Fake                             |False|7.5         |178       |[{'cast_id': 3, 'character': 'Himself', 'credit_id': '52fe4626c3a36847f80ef755', 'gender': 2, 'id': 40, 'name': 'Orson Welles', 'order': 0, 'profile_path': '/c5wKlmD001cQAqJjvDbVOTVeAyV.jpg'}, {'cast_id': 6, 'character': 'Himself', 'credit_id': '52fe4626c3a36847f80ef763', 'gender': 0, 'id': 143085, 'name': 'Elmyr de Hory', 'order': 1, 'profile_path': '/m3p6Aolba3fdt0pKDhsyrcDfAmH.jpg'}, {'cast_id': 7, 'character': 'Himself', 'credit_id': '52fe4626c3a36847f80ef767', 'gender': 2, 'id': 60188, 'name': 'Clifford Irving', 'order': 2, 'profile_path': '/3cLcu0aFlW9Oldp3D6lkpeBUrE7.jpg'}, {'cast_id': 5, 'character': 'The Girl', 'credit_id': '52fe4626c3a36847f80ef75f', 'gender': 1, 'id': 143081, 'name': 'Oja Kodar', 'order': 3, 'profile_path': '/oMwn51HBBlSNnn77E4HwCfzJLMz.jpg'}, {'cast_id': 9, 'character': 'Himself', 'credit_id': '55b537b99251410457004fba', 'gender': 2, 'id': 14729, 'name': 'Laurence Harvey', 'order': 4, 'profile_path': '/iSKq4IsgLEDdzboqtthn2RWkJlv.jpg'}, {'cast_id': 2, 'character': 'Himself', 'credit_id': '52fe4626c3a36847f80ef751', 'gender': 2, 'id': 7664, 'name': 'Joseph Cotten', 'order': 5, 'profile_path': '/djfCB0jPOgmq3w7RD3BMLzWsAu8.jpg'}, {'cast_id': 24, 'character': 'Herself', 'credit_id': '5be5a8d8c3a36810ca04bfe4', 'gender': 0, 'id': 2171877, 'name': 'Edith Irving', 'order': 6, 'profile_path': None}, {'cast_id': 25, 'character': 'Himself', 'credit_id': '5be5a9019251415c7e042af4', 'gender': 0, 'id': 2171879, 'name': 'David Walsh', 'order': 7, 'profile_path': None}, {'cast_id': 26, 'character': 'Himself', 'credit_id': '5be5a911c3a36810d2044afc', 'gender': 2, 'id': 11033, 'name': 'Paul Stewart', 'order': 8, 'profile_path': '/2sYUlDzOJcjE6W3S80hYpkwcAzN.jpg'}, {'cast_id': 27, 'character': 'Himself', 'credit_id': '5be5a9699251415c7a03fec1', 'gender': 0, 'id': 2171880, 'name': 'Richard Wilson', 'order': 9, 'profile_path': None}, {'cast_id': 28, 'character': 'Himself', 'credit_id': '5be5a9830e0a2614b10451a6', 'gender': 0, 'id': 1256010, 'name': 'Richard Drewitt', 'order': 10, 'profile_path': None}, {'cast_id': 29, 'character': 'Himself', 'credit_id': '5be5a9969251415c8203f4e6', 'gender': 0, 'id': 1379251, 'name': 'Alexander Welles', 'order': 11, 'profile_path': None}, {'cast_id': 30, 'character': 'Himself', 'credit_id': '5be5a9adc3a36810c4046b32', 'gender': 2, 'id': 30683, 'name': 'Gary Graver', 'order': 12, 'profile_path': '/hgxyf9QroD3VyKefTXt8ymxCP2t.jpg'}, {'cast_id': 31, 'character': 'Himself', 'credit_id': '5be5a9c2c3a36810c1045f65', 'gender': 2, 'id': 13159, 'name': 'Andrés Vicente Gómez', 'order': 13, 'profile_path': '/4R1F2kZ9ZnzNQv5Vja9Btqa7A07.jpg'}, {'cast_id': 32, 'character': 'Himself', 'credit_id': '5be5a9d5c3a36810c4046b7f', 'gender': 0, 'id': 2171884, 'name': 'Julio Palinkas', 'order': 14, 'profile_path': None}, {'cast_id': 33, 'character': 'Himself', 'credit_id': '5be5a9e8c3a36810c604b166', 'gender': 0, 'id': 1624784, 'name': 'Christian Odasso', 'order': 15, 'profile_path': None}, {'cast_id': 34, 'character': 'Herself', 'credit_id': '5be5aa0dc3a36810c1045fe2', 'gender': 0, 'id': 2171887, 'name': 'Françoise Widhoff', 'order': 16, 'profile_path': None}, {'cast_id': 35, 'character': 'Himself', 'credit_id': '5be5aa21c3a36810c4046bfb', 'gender': 2, 'id': 39012, 'name': 'Peter Bogdanovich', 'order': 17, 'profile_path': '/m3aMMYzzEbqKEwGOyEPq7Rt1gAj.jpg'}, {'cast_id': 36, 'character': 'Himself', 'credit_id': '5be5aa2f0e0a2614ba04444d', 'gender': 0, 'id': 11030, 'name': 'William Alland', 'order': 18, 'profile_path': None}, {'cast_id': 37, 'character': 'Himself', 'credit_id': '5be5aa5e0e0a2614ac044c5e', 'gender': 0, 'id': 2171888, 'name': 'Mark Forgy', 'order': 19, 'profile_path': None}, {'cast_id': 38, 'character': 'Herself', 'credit_id': '5be5aa76c3a36810ca04c274', 'gender': 1, 'id': 41732, 'name': 'Nina van Pallandt', 'order': 20, 'profile_path': '/8eUeOcWHczbpFGYyYtYTgZC7WES.jpg'}, {'cast_id': 39, 'character': 'Himself (Archive Footage)', 'credit_id': '5be5aa8bc3a36810bf045d5d', 'gender': 2, 'id': 13348, 'name': 'Howard Hughes', 'order': 21, 'profile_path': None}]                                                                                                                                                                                                                                                                                                                                                                                                                                                                                                                                                                                                                                                                                                                                                                                                                                                                                                                                                                                                                                                                                                                                                                                                                                                                                                                                                                                                                                                                                                                                                                                                                                                                                                                                                                                                                                                                                                                                                                                                                                                                                                                                                                                                                                                                                                                                                     |[{'credit_id': '52fe4626c3a36847f80ef75b', 'department': 'Directing', 'gender': 2, 'id': 40, 'job': 'Director', 'name': 'Orson Welles', 'profile_path': '/c5wKlmD001cQAqJjvDbVOTVeAyV.jpg'}]     |\n",
      "|False|/bQzj8DnIghVqUSe5EsH4uTV3jQb.jpg|null                 |500000.0|[{'id': 18, 'name': 'Drama'}, {'id': 36, 'name': 'History'}]                                                                 |null    |43004|tt0056196|en               |Long Day's Journey Into Night             |The film follows one day in the lives of the Tyrone family, each member is troubled and has been damaged by alcohol and/or drugs. In addition, they have issues with each other that lead to fights and an inability to reconcile completely with one another.                                                                                                                                                                                                                                |5.694     |/v0LN26HmrCEgZiDGpO3xJGkb9OK.jpg|[{'id': 77598, 'logo_path': None, 'name': 'First Company', 'origin_country': ''}]                                                                                                                                                                                                                                                                                   |[{'iso_3166_1': 'US', 'name': 'United States of America'}]                                                                               |1962-10-09  |0.0    |174    |[{'iso_639_1': 'en', 'name': 'English'}]                                                                                 |Released|PRIDE...POWER...PASSION...PAIN!                                                         |Long Day's Journey Into Night          |False|6.9         |32        |[{'cast_id': 1, 'character': 'Mary Tyrone', 'credit_id': '52fe4626c3a36847f80ef77b', 'gender': 1, 'id': 6598, 'name': 'Katharine Hepburn', 'order': 0, 'profile_path': '/hzBSOe6bburyMeeCqD9kR9tRfdD.jpg'}, {'cast_id': 2, 'character': 'James Tyrone', 'credit_id': '52fe4626c3a36847f80ef77f', 'gender': 2, 'id': 12689, 'name': 'Ralph Richardson', 'order': 1, 'profile_path': '/meAOwvd6XIxvBXVXV7kuTOnCkqw.jpg'}, {'cast_id': 3, 'character': 'Jamie Tyrone', 'credit_id': '52fe4626c3a36847f80ef783', 'gender': 2, 'id': 4765, 'name': 'Jason Robards', 'order': 2, 'profile_path': '/1HEKkA5x5fddJIcy8CIkPDLfx9I.jpg'}, {'cast_id': 4, 'character': 'Edmund Tyrone', 'credit_id': '52fe4626c3a36847f80ef787', 'gender': 2, 'id': 923, 'name': 'Dean Stockwell', 'order': 3, 'profile_path': '/gdHo8LNElMf1XxoRYgi0UUzbJuB.jpg'}, {'cast_id': 5, 'character': 'Kathleen', 'credit_id': '52fe4626c3a36847f80ef78b', 'gender': 1, 'id': 129187, 'name': 'Jeanne Barr', 'order': 4, 'profile_path': None}]                                                                                                                                                                                                                                                                                                                                                                                                                                                                                                                                                                                                                                                                                                                                                                                                                                                                                                                                                                                                                                                                                                                                                                                                                                                                                                                                                                                                                                                                                                                                                                                                                                                                                                                                                                                                                                                                                                                                                                                                                                                                                                                                                                                                                                                                                                                                                                                                                                                                                                                                                                                                                                                                                                                                                                                                                                                                                                                                                                                                                                                                                                                                                                                                                                                                                                                                                                                                                                                                                                                                                                                                                                                                                                                                                                                                                                                                                                                                                                                                                                                                                                                                                                                                                                                                                                                                                                                                                                                                                                                                                                                                                                                                                                                                                                                                                                                                                                                                                                                                                                                                                                                                                                                                                                                                                                                                                                                                                                                                                                                                                                        |[{'credit_id': '52fe4626c3a36847f80ef791', 'department': 'Directing', 'gender': 2, 'id': 39996, 'job': 'Director', 'name': 'Sidney Lumet', 'profile_path': '/boygOB4WxxfvucKirmTK6KNiGRM.jpg'}]  |\n",
      "|False|/gluooDaZ9PYOq4pUlKDCagRoBcp.jpg|null                 |0.0     |[{'id': 35, 'name': 'Comedy'}, {'id': 10749, 'name': 'Romance'}]                                                             |null    |43006|tt0056267|en               |My Geisha                                 |\"A director's (Yves Montand) wife (Shirley MacLaine) poses as a geisha to win the lead in his Japanese production of \"\"Madame Butterfly.\"\"\"                                                                                                                                                                                                                                                                                                                                                   |2.873     |/agETDkxKKoPSZSeYULan3L61IFn.jpg|[{'id': 82939, 'logo_path': None, 'name': 'Sachiko', 'origin_country': ''}, {'id': 4, 'logo_path': '/fycMZt242LVjagMByZOLUGbCvv3.png', 'name': 'Paramount', 'origin_country': 'US'}]                                                                                                                                                                                |[{'iso_3166_1': 'US', 'name': 'United States of America'}]                                                                               |1962-03-09  |0.0    |119    |[{'iso_639_1': 'ja', 'name': '日本語'}, {'iso_639_1': 'en', 'name': 'English'}]                                          |Released|null                                                                                    |My Geisha                              |False|6.1         |7         |\"[{'cast_id': 2, 'character': 'Lucy Dell / Yoko Mori', 'credit_id': '52fe4626c3a36847f80ef7f1', 'gender': 1, 'id': 4090, 'name': 'Shirley MacLaine', 'order': 0, 'profile_path': '/mpW9c34IAFPW0ODuKR8J0FAqN5i.jpg'}, {'cast_id': 3, 'character': 'Paul Robaix', 'credit_id': '52fe4626c3a36847f80ef7f5', 'gender': 2, 'id': 2565, 'name': 'Yves Montand', 'order': 1, 'profile_path': '/sUZFiQzMLn4QolPZza0zfLsekaF.jpg'}, {'cast_id': 4, 'character': 'Sam Lewis', 'credit_id': '52fe4626c3a36847f80ef7f9', 'gender': 2, 'id': 13566, 'name': 'Edward G. Robinson', 'order': 2, 'profile_path': '/sI3vtDTeGcV0uhumtZmYmfcOBav.jpg'}, {'cast_id': 5, 'character': 'Bob Moore', 'credit_id': '52fe4626c3a36847f80ef7fd', 'gender': 2, 'id': 7125, 'name': 'Robert Cummings', 'order': 3, 'profile_path': '/opnAIsyGG8Tgnr0KyrmHJxkFSxX.jpg'}, {'cast_id': 6, 'character': 'Kazumi Ito', 'credit_id': '52fe4626c3a36847f80ef801', 'gender': 1, 'id': 996687, 'name': 'Yoko Tani', 'order': 4, 'profile_path': '/8GlKMs9OQlX5gZPbClGU8ycZwnn.jpg'}, {'cast_id': 7, 'character': 'Kenichi Takata', 'credit_id': '52fe4626c3a36847f80ef805', 'gender': 2, 'id': 213511, 'name': 'Tatsuo Saitô', 'order': 5, 'profile_path': '/gFue2IdqAXQLm9GkeiDDOmoBAQx.jpg'}, {'cast_id': 8, 'character': 'Amatsu Hisako', 'credit_id': '52fe4626c3a36847f80ef809', 'gender': 1, 'id': 1066919, 'name': 'Tamae Kyokawa', 'order': 6, 'profile_path': None}, {'cast_id': 9, 'character': 'Hisako', 'credit_id': '52fe4626c3a36847f80ef80d', 'gender': 0, 'id': 1066920, 'name': 'Ichirô Hayakawa', 'order': 7, 'profile_path': None}, {'cast_id': 10, 'character': 'Leonard Lewis', 'credit_id': '52fe4626c3a36847f80ef811', 'gender': 2, 'id': 78778, 'name': 'Alex Gerry', 'order': 8, 'profile_path': '/4QZ2dhwYxtXZ8iEtcCPQUiAKJYs.jpg'}, {'cast_id': 11, 'character': 'Shiga', 'credit_id': '52fe4626c3a36847f80ef815', 'gender': 0, 'id': 1066921, 'name': 'Tsugundo Maki', 'order': 9, 'profile_path': None}, {'cast_id': 12, 'character': \"\"George (Robaix's butler)\"\", 'credit_id': '52fe4626c3a36847f80ef819', 'gender': 0, 'id': 1066922, 'name': 'George Furness', 'order': 10, 'profile_path': None}]\"                                                                                                                                                                                                                                                                                                                                                                                                                                                                                                                                                                                                                                                                                                                                                                                                                                                                                                                                                                                                                                                                                                                                                                                                                                                                                                                                                                                                                                                                                                                                                                                                                                                                                                                                                                                                                                                                                                                                                                                                                                                                                                                                                                                                                                                                                                                                                                                                                                                                                                                                                                                                                                                                                                                                                                                                                                                                                                                                                                                                                                                                                                                                                                                                                                                                                                                                                                                                                                                                                                                                                                                                                                                                                                                                                                                                                                                                                                                                                                                                                                                                                                                                                                                                                                                                                                                                                                                     |[{'credit_id': '52fe4626c3a36847f80ef7ed', 'department': 'Directing', 'gender': 2, 'id': 6603, 'job': 'Director', 'name': 'Jack Cardiff', 'profile_path': None}]                                 |\n",
      "|False|/mKeTNV8NzpbfmovXcouEIcercYU.jpg|null                 |0.0     |[{'id': 35, 'name': 'Comedy'}, {'id': 18, 'name': 'Drama'}]                                                                  |null    |43007|tt0056341|en               |Period of Adjustment                      |George Haverstick, a Korean war veteran, hastily marries Isabel, whom he met in hospital while he was recovering from a nervous condition. To Isabel's horror, they drive to Florida on their honeymoon in an old hearse. They spend much of the time quarreling, and then, on Christmas eve, they visit George's war buddy, Ralph Baltz. However Ralph's wife Dorothea has just walked out on him, taking their child. Each couple then observes the marital difficulties of the other couple|3.433     |/fb3Rh4sZMdEbGgfZjBQc7TmKgE9.jpg|[{'id': 13359, 'logo_path': None, 'name': 'Marten Pictures', 'origin_country': ''}, {'id': 21, 'logo_path': '/mjofSXiHpG5t6KYmU4l4FrUhT7m.png', 'name': 'Metro-Goldwyn-Mayer', 'origin_country': 'US'}]                                                                                                                                                             |[{'iso_3166_1': 'US', 'name': 'United States of America'}]                                                                               |1962-10-31  |0.0    |112    |[{'iso_639_1': 'en', 'name': 'English'}]                                                                                 |Released|The agonizing pause between the honeymoon and the marriage!                             |Period of Adjustment                   |False|6.4         |9         |[{'cast_id': 2, 'character': 'Ralph Bates', 'credit_id': '52fe4626c3a36847f80ef83d', 'gender': 2, 'id': 106179, 'name': 'Anthony Franciosa', 'order': 0, 'profile_path': '/zXzRQbzccIjSBQWlyspOvyZlcs8.jpg'}, {'cast_id': 3, 'character': 'Isabel Haverstick', 'credit_id': '52fe4626c3a36847f80ef841', 'gender': 1, 'id': 6352, 'name': 'Jane Fonda', 'order': 1, 'profile_path': '/uF48Qq1frslzSQuQsV75Uq1v0ou.jpg'}, {'cast_id': 4, 'character': 'George Haverstick', 'credit_id': '52fe4626c3a36847f80ef845', 'gender': 2, 'id': 94550, 'name': 'Jim Hutton', 'order': 2, 'profile_path': '/kTJ0knKe6mYz5wuxxsEELuh2qaL.jpg'}, {'cast_id': 5, 'character': 'Dorothea Bates', 'credit_id': '52fe4626c3a36847f80ef849', 'gender': 1, 'id': 89043, 'name': 'Lois Nettleton', 'order': 3, 'profile_path': '/t5D77KMgww026u5WOcri8FsPJNg.jpg'}, {'cast_id': 6, 'character': 'Stewart P. McGill', 'credit_id': '52fe4626c3a36847f80ef84d', 'gender': 2, 'id': 1943, 'name': 'John McGiver', 'order': 4, 'profile_path': '/beFNp5X9L5KQUspLPDcVLlJWIyA.jpg'}, {'cast_id': 7, 'character': 'Mrs. Alice McGill', 'credit_id': '52fe4626c3a36847f80ef851', 'gender': 1, 'id': 19098, 'name': 'Mabel Albertson', 'order': 5, 'profile_path': '/5Vu2Y9BRpjlGbcmByz8cgyhmmVL.jpg'}, {'cast_id': 10, 'character': 'Desk Sergeant', 'credit_id': '52fe4626c3a36847f80ef861', 'gender': 0, 'id': 3461, 'name': 'Jack Albertson', 'order': 6, 'profile_path': '/6Ed6n1sfOlOvr0F7sEDiHvQnp96.jpg'}, {'cast_id': 11, 'character': 'Smoky Anderson', 'credit_id': '52fe4626c3a36847f80ef865', 'gender': 2, 'id': 41230, 'name': 'John Astin', 'order': 7, 'profile_path': '/xczlYoJJblfyoOudcn7riLqsbXW.jpg'}, {'cast_id': 12, 'character': 'Christmas Caroler', 'credit_id': '52fe4626c3a36847f80ef869', 'gender': 2, 'id': 164974, 'name': 'Norman Leavitt', 'order': 8, 'profile_path': None}]                                                                                                                                                                                                                                                                                                                                                                                                                                                                                                                                                                                                                                                                                                                                                                                                                                                                                                                                                                                                                                                                                                                                                                                                                                                                                                                                                                                                                                                                                                                                                                                                                                                                                                                                                                                                                                                                                                                                                                                                                                                                                                                                                                                                                                                                                                                                                                                                                                                                                                                                                                                                                                                                                                                                                                                                                                                                                                                                                                                                                                                                                                                                                                                                                                                                                                                                                                                                                                                                                                                                                                                                                                                                                                                                                                                                                                                                                                                                                                                                                                                                                                                                                                                                                                                                                                                                                                                                                                                                                                                                                                                                                                                                                                     |[{'credit_id': '52fe4626c3a36847f80ef839', 'department': 'Directing', 'gender': 2, 'id': 9577, 'job': 'Director', 'name': 'George Roy Hill', 'profile_path': '/4DMJLc6Y2eVgoFyjmNDFygQBXCV.jpg'}]|\n",
      "|False|/nbUnIkRlBmUEnI3Y9shgirevAvc.jpg|null                 |0.0     |[{'id': 37, 'name': 'Western'}]                                                                                              |null    |43008|tt0052876|en               |The Hanging Tree                          |Character study of a Doctor who saves a local criminal from a mob who are trying to hang him, but then tries to control the life of the young man, realising that he can exploit his secret.                                                                                                                                                                                                                                                                                                  |7.869     |/iViIfECbpQxPDhHjtL7057kmvP4.jpg|[{'id': 14248, 'logo_path': None, 'name': 'Baroda', 'origin_country': ''}, {'id': 174, 'logo_path': '/IuAlhI9eVC9Z8UQWOIDdWRKSEJ.png', 'name': 'Warner Bros. Pictures', 'origin_country': 'US'}]                                                                                                                                                                    |[{'iso_3166_1': 'US', 'name': 'United States of America'}]                                                                               |1959-03-13  |0.0    |107    |[{'iso_639_1': 'en', 'name': 'English'}]                                                                                 |Released|From The Prize Novel -- A Picture Of Thundering Power!                                  |The Hanging Tree                       |False|6.6         |47        |\"[{'cast_id': 2, 'character': \"\"Dr. Joseph 'Doc' Frail\"\", 'credit_id': '52fe4626c3a36847f80ef88f', 'gender': 2, 'id': 4068, 'name': 'Gary Cooper', 'order': 0, 'profile_path': '/67svKX2KuFwwBvrijIb7bBtBgIM.jpg'}, {'cast_id': 5, 'character': 'Elizabeth Mahler', 'credit_id': '52fe4626c3a36847f80ef89b', 'gender': 1, 'id': 40954, 'name': 'Maria Schell', 'order': 1, 'profile_path': '/233wh3jTQq1Mq2OZbcvohV3CTkS.jpg'}, {'cast_id': 3, 'character': 'Frenchy Plante', 'credit_id': '52fe4626c3a36847f80ef893', 'gender': 2, 'id': 9857, 'name': 'Karl Malden', 'order': 2, 'profile_path': '/of2EdgH8H4Nobms6YuvABiOGlhX.jpg'}, {'cast_id': 4, 'character': 'Dr. George Grubb', 'credit_id': '52fe4626c3a36847f80ef897', 'gender': 2, 'id': 862, 'name': 'George C. Scott', 'order': 3, 'profile_path': '/1dL9hx7nC0cACIVpp6xS1jqJJN7.jpg'}, {'cast_id': 9, 'character': 'Tom Flaunce', 'credit_id': '52fe4626c3a36847f80ef8b1', 'gender': 2, 'id': 12158, 'name': 'Karl Swenson', 'order': 4, 'profile_path': '/5VZ6exiXp5PY7EhgyPEeUHfB7wJ.jpg'}, {'cast_id': 10, 'character': 'Edna Flaunce', 'credit_id': '52fe4626c3a36847f80ef8b5', 'gender': 1, 'id': 19110, 'name': 'Virginia Gregg', 'order': 5, 'profile_path': '/s0ODLLP5HmL99Wi2w8tIY7rWUsW.jpg'}, {'cast_id': 11, 'character': 'Society Red', 'credit_id': '52fe4626c3a36847f80ef8b9', 'gender': 2, 'id': 29645, 'name': 'John Dierkes', 'order': 6, 'profile_path': '/4M9P2Tcu1bR6us0vrnmae6j6TdQ.jpg'}, {'cast_id': 12, 'character': 'Wonder', 'credit_id': '52fe4626c3a36847f80ef8bd', 'gender': 2, 'id': 69811, 'name': 'King Donovan', 'order': 7, 'profile_path': '/2O22SEHCVd84KXK7G3AeiOtZh5C.jpg'}, {'cast_id': 13, 'character': 'Rune', 'credit_id': '52fe4626c3a36847f80ef8c1', 'gender': 2, 'id': 90163, 'name': 'Ben Piazza', 'order': 8, 'profile_path': '/io4ieCby2cPioQaAbnTFVniKu2D.jpg'}, {'cast_id': 33, 'character': '', 'credit_id': '5eedb722134d580039276d7e', 'gender': 0, 'id': 1638781, 'name': 'Emile Avery', 'order': 9, 'profile_path': None}, {'cast_id': 34, 'character': '', 'credit_id': '5eedb72c134d58003a26aa8a', 'gender': 0, 'id': 1422100, 'name': 'Fern Barry', 'order': 10, 'profile_path': None}, {'cast_id': 35, 'character': '', 'credit_id': '5eedb737c5ada50031d96d7d', 'gender': 2, 'id': 1263061, 'name': 'William Benedict', 'order': 11, 'profile_path': '/zKqMIhAwZSPBr2L4BCdWgg1P1vC.jpg'}, {'cast_id': 36, 'character': '', 'credit_id': '5eedb742bd990c0037015b3d', 'gender': 0, 'id': 2666427, 'name': 'Oscar Blank', 'order': 12, 'profile_path': None}, {'cast_id': 37, 'character': '', 'credit_id': '5eedb74dbd990c0037015b5e', 'gender': 2, 'id': 1404180, 'name': 'Danny Borzage', 'order': 13, 'profile_path': '/6A7s2hiuZla6fOX7cS4ijt9YpE1.jpg'}, {'cast_id': 38, 'character': '', 'credit_id': '5eedb75ebd990c0037015f71', 'gender': 1, 'id': 2124408, 'name': 'Annette Claudier', 'order': 14, 'profile_path': None}, {'cast_id': 39, 'character': '', 'credit_id': '5eedb767c5ada50033db266d', 'gender': 0, 'id': 1276434, 'name': 'Tex Driscoll', 'order': 15, 'profile_path': None}, {'cast_id': 40, 'character': '', 'credit_id': '5eedb77ebd990c0037015fd5', 'gender': 0, 'id': 2270031, 'name': 'Martin Eric', 'order': 16, 'profile_path': None}, {'cast_id': 41, 'character': '', 'credit_id': '5eedb789134d580039276ee6', 'gender': 2, 'id': 34168, 'name': 'Frank Hagney', 'order': 17, 'profile_path': '/cSC8fpWngae5z0zCGa8qVg6eo4I.jpg'}, {'cast_id': 42, 'character': '', 'credit_id': '5eedb79d134d580039276ef2', 'gender': 2, 'id': 179127, 'name': 'John Hudkins', 'order': 18, 'profile_path': '/a9pu80QdFPdlSRnFAESTlewGPqd.jpg'}, {'cast_id': 43, 'character': '', 'credit_id': '5eedb7a7134d58003a26aadf', 'gender': 2, 'id': 1317628, 'name': 'Jack Kenny', 'order': 19, 'profile_path': '/5T5Z9ypMcNYit9vVf3l54FdfkvL.jpg'}, {'cast_id': 44, 'character': '', 'credit_id': '5eedb7b0b0460500350ff745', 'gender': 0, 'id': 2678371, 'name': 'Dorothy Klewer', 'order': 20, 'profile_path': None}, {'cast_id': 45, 'character': '', 'credit_id': '5eedb7ba134d580039277151', 'gender': 0, 'id': 1443706, 'name': 'Baron James Lichter', 'order': 21, 'profile_path': None}, {'cast_id': 46, 'character': '', 'credit_id': '5eedb7c49661fc00355ea90e', 'gender': 0, 'id': 1179586, 'name': 'Cactus Mack', 'order': 22, 'profile_path': None}, {'cast_id': 47, 'character': '', 'credit_id': '5eedb7dd134d5800392777ac', 'gender': 2, 'id': 1290997, 'name': 'Kansas Moehring', 'order': 23, 'profile_path': '/yLYz5ZGf4sSb4oNgHndcUcWCLjv.jpg'}, {'cast_id': 48, 'character': '', 'credit_id': '5eedb80ebd990c003701610a', 'gender': 2, 'id': 190776, 'name': 'Bob Morgan', 'order': 24, 'profile_path': None}, {'cast_id': 49, 'character': '', 'credit_id': '5eedb81ab0460500340dd8e7', 'gender': 2, 'id': 1064925, 'name': 'Charles Morton', 'order': 25, 'profile_path': '/icutT9OmiHlQK2jITUFdcZ8s1um.jpg'}, {'cast_id': 50, 'character': '', 'credit_id': '5eedb823b84cdd00342e74c3', 'gender': 1, 'id': 125111, 'name': 'Karen Norris', 'order': 26, 'profile_path': '/kvS0jQ0X6nfWfmsU8yMy9b26TEI.jpg'}, {'cast_id': 51, 'character': '', 'credit_id': '5eedb82bb0460500340dd901', 'gender': 2, 'id': 34890, 'name': 'Bud Osborne', 'order': 27, 'profile_path': '/6WIxWcUlDvnILVj8yplY61fQJyG.jpg'}, {'cast_id': 52, 'character': '', 'credit_id': '5eedb836134d580038282104', 'gender': 0, 'id': 1550425, 'name': 'Joe Phillips', 'order': 28, 'profile_path': None}, {'cast_id': 53, 'character': '', 'credit_id': '5eedb847c5ada50032d7baa1', 'gender': 2, 'id': 137005, 'name': 'Boyd Stockman', 'order': 29, 'profile_path': None}, {'cast_id': 54, 'character': '', 'credit_id': '5eedb8500f1e580035b90c8a', 'gender': 0, 'id': 153237, 'name': 'Clarence Straight', 'order': 30, 'profile_path': None}, {'cast_id': 55, 'character': '', 'credit_id': '5eedb85bb0460500340dd93e', 'gender': 0, 'id': 1003623, 'name': 'Slim Talbot', 'order': 31, 'profile_path': None}, {'cast_id': 56, 'character': '', 'credit_id': '5eedb8649661fc003663ce23', 'gender': 2, 'id': 940651, 'name': 'Don Turner', 'order': 32, 'profile_path': None}, {'cast_id': 57, 'character': '', 'credit_id': '5eedb86db0460500330b70cd', 'gender': 2, 'id': 572525, 'name': 'Sailor Vincent', 'order': 33, 'profile_path': '/5PLUOZXvg99LtU7ORzoXFRSN5pE.jpg'}, {'cast_id': 58, 'character': '', 'credit_id': '5eedb876134d58003a26ab72', 'gender': 2, 'id': 105759, 'name': 'Guy Wilkerson', 'order': 34, 'profile_path': None}]\"|[{'credit_id': '52fe4626c3a36847f80ef88b', 'department': 'Directing', 'gender': 2, 'id': 76981, 'job': 'Director', 'name': 'Delmer Daves', 'profile_path': '/vD8HCP04NbxS4Tb6AoRjBtHb3qA.jpg'}]  |\n",
      "|False|null                            |null                 |0.0     |[{'id': 10749, 'name': 'Romance'}, {'id': 18, 'name': 'Drama'}, {'id': 9648, 'name': 'Mystery'}, {'id': 80, 'name': 'Crime'}]|null    |43010|tt0056480|de               |Sherlock Holmes und das Halsband des Todes|Sherlock Holmes and Watson do battle with their nemesis, Professor Moriarity, over an ancient necklace attributed to Cleopatra.                                                                                                                                                                                                                                                                                                                                                               |3.775     |/8bzjFYn0lbl3TxKXru9rPuysIPb.jpg|[{'id': 1787, 'logo_path': None, 'name': 'Central Cinema Company Film', 'origin_country': ''}, {'id': 12473, 'logo_path': None, 'name': 'Incei Film', 'origin_country': ''}, {'id': 20198, 'logo_path': None, 'name': 'Criterion Productions', 'origin_country': ''}, {'id': 132999, 'logo_path': None, 'name': 'Omnia Deutsche Film Export', 'origin_country': ''}]|[{'iso_3166_1': 'FR', 'name': 'France'}, {'iso_3166_1': 'IT', 'name': 'Italy'}, {'iso_3166_1': 'DE', 'name': 'Germany'}]                 |1962-01-01  |0.0    |87     |[{'iso_639_1': 'de', 'name': 'Deutsch'}]                                                                                 |Released|null                                                                                    |Sherlock Holmes and the Deadly Necklace|False|5.5         |16        |[{'cast_id': 2, 'character': 'Sherlock Holmes', 'credit_id': '52fe4626c3a36847f80ef8d9', 'gender': 2, 'id': 113, 'name': 'Christopher Lee', 'order': 0, 'profile_path': '/f9qDsidlyQARbdmzBJ9fjsEBhwp.jpg'}, {'cast_id': 3, 'character': 'Ellen Blackburn', 'credit_id': '52fe4626c3a36847f80ef8dd', 'gender': 1, 'id': 12776, 'name': 'Senta Berger', 'order': 1, 'profile_path': '/A6vTzs8BVX2XgOofzo6UiThBaoV.jpg'}, {'cast_id': 4, 'character': 'Prof. Moriarty', 'credit_id': '52fe4626c3a36847f80ef8e1', 'gender': 2, 'id': 18546, 'name': 'Hans Söhnker', 'order': 2, 'profile_path': None}, {'cast_id': 5, 'character': 'Inspector Cooper', 'credit_id': '52fe4626c3a36847f80ef8e5', 'gender': 2, 'id': 28886, 'name': 'Hans Nielsen', 'order': 3, 'profile_path': '/A25y1depsXHFvmbORa8W4sKkptJ.jpg'}, {'cast_id': 6, 'character': 'Mrs. Hudson', 'credit_id': '5363f7ac0e0a261dfe0035a3', 'gender': 1, 'id': 36985, 'name': 'Edith Schultze-Westrum', 'order': 4, 'profile_path': '/yIeVLvvVu0tJEz7quI6eO7fpP8s.jpg'}, {'cast_id': 7, 'character': 'Paul King', 'credit_id': '5363f7cd0e0a261df80035ef', 'gender': 2, 'id': 9928, 'name': 'Ivan Desny', 'order': 5, 'profile_path': '/cf2mRMgj9XpWEHfBqRRc6h88vDz.jpg'}, {'cast_id': 8, 'character': 'Peter Blackburn', 'credit_id': '5363f7da0e0a261e16003537', 'gender': 2, 'id': 16310, 'name': 'Wolfgang Lukschy', 'order': 6, 'profile_path': '/v5phdporZ0xCC3vzFJ3nMtfJQM4.jpg'}, {'cast_id': 9, 'character': 'Auktionär', 'credit_id': '5363f7eb0e0a261dfe0035aa', 'gender': 2, 'id': 48006, 'name': 'Bruno W. Pantel', 'order': 7, 'profile_path': None}, {'cast_id': 10, 'character': 'Charles', 'credit_id': '53b54f650e0a2676bf0027a8', 'gender': 2, 'id': 5795, 'name': 'Leon Askin', 'order': 8, 'profile_path': '/dvMYko94BHAuu84m1AKWGFF4YfM.jpg'}, {'cast_id': 11, 'character': 'Dr. Watson', 'credit_id': '569059f9c3a3686b49000425', 'gender': 2, 'id': 11131, 'name': 'Thorley Walters', 'order': 9, 'profile_path': '/2iaz3XUVgB4ZJZdNTKe5Ln17fVk.jpg'}]                                                                                                                                                                                                                                                                                                                                                                                                                                                                                                                                                                                                                                                                                                                                                                                                                                                                                                                                                                                                                                                                                                                                                                                                                                                                                                                                                                                                                                                                                                                                                                                                                                                                                                                                                                                                                                                                                                                                                                                                                                                                                                                                                                                                                                                                                                                                                                                                                                                                                                                                                                                                                                                                                                                                                                                                                                                                                                                                                                                                                                                                                                                                                                                                                                                                                                                                                                                                                                                                                                                                                                                                                                                                                                                                                                                                                                                                                                                                                                                                                                                                                                                                                                                                                                                                                                                                                                                                                                                                                                                                                |[{'credit_id': '52fe4626c3a36847f80ef8d5', 'department': 'Directing', 'gender': 2, 'id': 29662, 'job': 'Director', 'name': 'Terence Fisher', 'profile_path': '/ey0BKlj59dZw0rtZmbxY5oyi1Hi.jpg'}]|\n",
      "|False|/lan48NgJQEns4ZDVtwwCV45bC1t.jpg|null                 |0.0     |[{'id': 12, 'name': 'Adventure'}, {'id': 18, 'name': 'Drama'}, {'id': 36, 'name': 'History'}]                                |null    |43011|tt0056504|en               |Sodom and Gomorrah                        |Sex, torture and betrayal in Biblical Sodom and Gomorrah. Lot, leader of the Hebrews, believes his people can co-exist with the Sodomites, a disastrous decision.                                                                                                                                                                                                                                                                                                                             |7.185     |/7aecIPGBoKB7FTVZ41WvdIY2mdU.jpg|[{'id': 8894, 'logo_path': None, 'name': 'Société Générale de Cinématographie (S.G.C.)', 'origin_country': ''}, {'id': 641, 'logo_path': None, 'name': 'Titanus', 'origin_country': 'IT'}, {'id': 220, 'logo_path': None, 'name': 'Pathé Consortium Cinéma', 'origin_country': 'FR'}]                                                                               |[{'iso_3166_1': 'FR', 'name': 'France'}, {'iso_3166_1': 'IT', 'name': 'Italy'}, {'iso_3166_1': 'US', 'name': 'United States of America'}]|1962-01-01  |0.0    |154    |[{'iso_639_1': 'en', 'name': 'English'}]                                                                                 |Released|The cities that mocked the very name of God...The vengeance that tore the Earth asunder!|Sodom and Gomorrah                     |False|5.4         |15        |[{'cast_id': 2, 'character': 'Lot', 'credit_id': '52fe4626c3a36847f80ef903', 'gender': 2, 'id': 41235, 'name': 'Stewart Granger', 'order': 0, 'profile_path': '/pZ7YT97vHeeEzo6iwHrr7cnXGmO.jpg'}, {'cast_id': 3, 'character': 'Astaroth', 'credit_id': '52fe4626c3a36847f80ef907', 'gender': 2, 'id': 67449, 'name': 'Stanley Baker', 'order': 1, 'profile_path': '/lWfFeILm7KdZ0aDjHXSzPWHkT9s.jpg'}, {'cast_id': 4, 'character': 'Ildith', 'credit_id': '52fe4626c3a36847f80ef90b', 'gender': 1, 'id': 99374, 'name': 'Pier Angeli', 'order': 2, 'profile_path': '/ayANCqQufSAenhYQ1a1Z68MHUkm.jpg'}, {'cast_id': 5, 'character': 'Shuah', 'credit_id': '52fe4626c3a36847f80ef90f', 'gender': 1, 'id': 128330, 'name': 'Rossana Podestà', 'order': 3, 'profile_path': '/97g6foFR7NRcNXzMiVsTjrC55IG.jpg'}, {'cast_id': 6, 'character': 'Melchior', 'credit_id': '52fe4626c3a36847f80ef913', 'gender': 2, 'id': 5565, 'name': 'Rik Battaglia', 'order': 4, 'profile_path': '/oLkPK5VvxSfz226aNlCOOJgVtLB.jpg'}, {'cast_id': 10, 'character': 'Königin Bera', 'credit_id': '57aa3de492514124740001f9', 'gender': 1, 'id': 5682, 'name': 'Anouk Aimée', 'order': 5, 'profile_path': '/9pPY3jiJ79wQ5pvLqVqlTlPnkZ6.jpg'}, {'cast_id': 11, 'character': 'Tänzerin', 'credit_id': '57aa3df9c3a3680ec5001ec3', 'gender': 1, 'id': 935970, 'name': 'Alice Kessler', 'order': 6, 'profile_path': None}, {'cast_id': 12, 'character': 'Tänzerin', 'credit_id': '57aa3e0492514124710001ce', 'gender': 1, 'id': 935971, 'name': 'Ellen Kessler', 'order': 7, 'profile_path': None}]                                                                                                                                                                                                                                                                                                                                                                                                                                                                                                                                                                                                                                                                                                                                                                                                                                                                                                                                                                                                                                                                                                                                                                                                                                                                                                                                                                                                                                                                                                                                                                                                                                                                                                                                                                                                                                                                                                                                                                                                                                                                                                                                                                                                                                                                                                                                                                                                                                                                                                                                                                                                                                                                                                                                                                                                                                                                                                                                                                                                                                                                                                                                                                                                                                                                                                                                                                                                                                                                                                                                                                                                                                                                                                                                                                                                                                                                                                                                                                                                                                                                                                                                                                                                                                                                                                                                                                                                                                                                                                                                                                                                                                                                                                                                                                                                                                                                                                                                                                                                            |[{'credit_id': '52fe4626c3a36847f80ef8ff', 'department': 'Directing', 'gender': 2, 'id': 18392, 'job': 'Director', 'name': 'Robert Aldrich', 'profile_path': '/uUa8zcoQAvz7cFd0PPY3NL6y2cE.jpg'}]|\n",
      "+-----+--------------------------------+---------------------+--------+-----------------------------------------------------------------------------------------------------------------------------+--------+-----+---------+-----------------+------------------------------------------+----------------------------------------------------------------------------------------------------------------------------------------------------------------------------------------------------------------------------------------------------------------------------------------------------------------------------------------------------------------------------------------------------------------------------------------------------------------------------------------------+----------+--------------------------------+--------------------------------------------------------------------------------------------------------------------------------------------------------------------------------------------------------------------------------------------------------------------------------------------------------------------------------------------------------------------+-----------------------------------------------------------------------------------------------------------------------------------------+------------+-------+-------+-------------------------------------------------------------------------------------------------------------------------+--------+----------------------------------------------------------------------------------------+---------------------------------------+-----+------------+----------+--------------------------------------------------------------------------------------------------------------------------------------------------------------------------------------------------------------------------------------------------------------------------------------------------------------------------------------------------------------------------------------------------------------------------------------------------------------------------------------------------------------------------------------------------------------------------------------------------------------------------------------------------------------------------------------------------------------------------------------------------------------------------------------------------------------------------------------------------------------------------------------------------------------------------------------------------------------------------------------------------------------------------------------------------------------------------------------------------------------------------------------------------------------------------------------------------------------------------------------------------------------------------------------------------------------------------------------------------------------------------------------------------------------------------------------------------------------------------------------------------------------------------------------------------------------------------------------------------------------------------------------------------------------------------------------------------------------------------------------------------------------------------------------------------------------------------------------------------------------------------------------------------------------------------------------------------------------------------------------------------------------------------------------------------------------------------------------------------------------------------------------------------------------------------------------------------------------------------------------------------------------------------------------------------------------------------------------------------------------------------------------------------------------------------------------------------------------------------------------------------------------------------------------------------------------------------------------------------------------------------------------------------------------------------------------------------------------------------------------------------------------------------------------------------------------------------------------------------------------------------------------------------------------------------------------------------------------------------------------------------------------------------------------------------------------------------------------------------------------------------------------------------------------------------------------------------------------------------------------------------------------------------------------------------------------------------------------------------------------------------------------------------------------------------------------------------------------------------------------------------------------------------------------------------------------------------------------------------------------------------------------------------------------------------------------------------------------------------------------------------------------------------------------------------------------------------------------------------------------------------------------------------------------------------------------------------------------------------------------------------------------------------------------------------------------------------------------------------------------------------------------------------------------------------------------------------------------------------------------------------------------------------------------------------------------------------------------------------------------------------------------------------------------------------------------------------------------------------------------------------------------------------------------------------------------------------------------------------------------------------------------------------------------------------------------------------------------------------------------------------------------------------------------------------------------------------------------------------------------------------------------------------------------------------------------------------------------------------------------------------------------------------------------------------------------------------------------------------------------------------------------------------------------------------------------------------------------------------------------------------------------------------------------------------------------------------------------------------------------------------------------------------------------------------------------------------------------------------------------------------------------------------------------------------------------------------------------------------------------------------------------------------------------------------------------------------------------------------------------------------------------------------------------------------------------------------------------------------------------------------------------------------------------------------------------------------------------------------------------------------------------------------------------------------------------------------------------------------------------------------------------------------------------------------------------------------------------------------------------------------------------------------------------------------------------------------------------------------------------------------------------------------------------------------------------------------------------------------------------------------------------------------------------------------------------------------------------+-------------------------------------------------------------------------------------------------------------------------------------------------------------------------------------------------+\n",
      "only showing top 10 rows\n",
      "\n"
     ]
    }
   ],
   "source": [
    "df.show(10,False)"
   ]
  },
  {
   "cell_type": "code",
   "execution_count": 40,
   "id": "019785c9",
   "metadata": {},
   "outputs": [
    {
     "data": {
      "text/plain": [
       "DataFrame[summary: string, adult: string, backdrop_path: string, belongs_to_collection: string, budget: string, genres: string, homepage: string, id: string, imdb_id: string, original_language: string, original_title: string, overview: string, popularity: string, poster_path: string, production_companies: string, production_countries: string, revenue: string, runtime: string, spoken_languages: string, status: string, tagline: string, title: string, video: string, vote_average: string, vote_count: string, cast: string, directors: string]"
      ]
     },
     "execution_count": 40,
     "metadata": {},
     "output_type": "execute_result"
    }
   ],
   "source": [
    "#Estadisticas en el dataset\n",
    "df.describe()"
   ]
  },
  {
   "cell_type": "code",
   "execution_count": 42,
   "id": "2480d468",
   "metadata": {},
   "outputs": [],
   "source": [
    "#Calcular la mediana pero primero hay que eliminar\n",
    "#los valores que sean nulos\n",
    "#isnan_functions de pyspark\n",
    "df_temp = df.filter((df[\"budget\"]!=0)&(df[\"budget\"].isNotNull())&(~isnan(df[\"budget\"])))"
   ]
  },
  {
   "cell_type": "code",
   "execution_count": 43,
   "id": "b72e642c",
   "metadata": {},
   "outputs": [],
   "source": [
    "mediana = df_temp.approxQuantile(\"budget\", [0.5], 0.1)"
   ]
  },
  {
   "cell_type": "code",
   "execution_count": 44,
   "id": "3510a645",
   "metadata": {},
   "outputs": [
    {
     "name": "stdout",
     "output_type": "stream",
     "text": [
      "Mediana de la columna budget:  [3500000.0]\n"
     ]
    }
   ],
   "source": [
    "print(\"Mediana de la columna budget: \", str(mediana))"
   ]
  },
  {
   "cell_type": "code",
   "execution_count": 45,
   "id": "774d6561",
   "metadata": {},
   "outputs": [
    {
     "name": "stdout",
     "output_type": "stream",
     "text": [
      "+------+\n",
      "| count|\n",
      "+------+\n",
      "|107973|\n",
      "+------+\n",
      "\n"
     ]
    }
   ],
   "source": [
    "#agg = groupByy().agg() crea un subconjunto de datos\n",
    "#Valores unicos\n",
    "df.agg(countDistinct(col(\"title\")).alias(\"count\")).show()"
   ]
  },
  {
   "cell_type": "code",
   "execution_count": 46,
   "id": "89186951",
   "metadata": {},
   "outputs": [
    {
     "name": "stdout",
     "output_type": "stream",
     "text": [
      "+--------------------------+\n",
      "|title                     |\n",
      "+--------------------------+\n",
      "|The Corn Is Green         |\n",
      "|Meet The Browns - The Play|\n",
      "|Morenita, El Escandalo    |\n",
      "|Father Takes a Wife       |\n",
      "|Taking The Curve          |\n",
      "|Fleshburn                 |\n",
      "|Dead Lenny                |\n",
      "|El juego de la silla      |\n",
      "|Sargad                    |\n",
      "|Kin                       |\n",
      "+--------------------------+\n",
      "only showing top 10 rows\n",
      "\n"
     ]
    }
   ],
   "source": [
    "#distinct elimina valores duplicados sobre una columna\n",
    "df.select(\"title\").distinct().show(10, False)"
   ]
  },
  {
   "cell_type": "code",
   "execution_count": null,
   "id": "605752d1",
   "metadata": {},
   "outputs": [],
   "source": [
    "#Extraer el año de relase_date: year, month, dayamonth\n",
    "df_temp=df.withColumn(\"relase_year\", year(\"relase_date\"))"
   ]
  },
  {
   "cell_type": "code",
   "execution_count": null,
   "id": "099aaa85",
   "metadata": {},
   "outputs": [],
   "source": [
    "df_temp.groupBy(\"relase_year\").agg(countDistinct(\"title\")).show(10,False)"
   ]
  },
  {
   "cell_type": "code",
   "execution_count": 3,
   "id": "1d67611c",
   "metadata": {},
   "outputs": [],
   "source": [
    "#Filtrando quellas peliculas que inician con \"meet\"\n",
    "df.filter(df[\"title\"].like(\"Meet%\")).show(10,False)"
   ]
  },
  {
   "cell_type": "code",
   "execution_count": 4,
   "id": "60eaa5ce",
   "metadata": {},
   "outputs": [
    {
     "ename": "NameError",
     "evalue": "name 'df' is not defined",
     "output_type": "error",
     "traceback": [
      "\u001b[1;31m---------------------------------------------------------------------------\u001b[0m",
      "\u001b[1;31mNameError\u001b[0m                                 Traceback (most recent call last)",
      "\u001b[1;32m~\\AppData\\Local\\Temp/ipykernel_9124/2368928694.py\u001b[0m in \u001b[0;36m<module>\u001b[1;34m\u001b[0m\n\u001b[0;32m      1\u001b[0m \u001b[1;31m#Filtrar las peliculas que su nombre no terminen con \"s\"\u001b[0m\u001b[1;33m\u001b[0m\u001b[1;33m\u001b[0m\u001b[0m\n\u001b[1;32m----> 2\u001b[1;33m \u001b[0mdf\u001b[0m\u001b[1;33m.\u001b[0m\u001b[0mfilter\u001b[0m\u001b[1;33m(\u001b[0m\u001b[1;33m~\u001b[0m\u001b[0mdf\u001b[0m\u001b[1;33m[\u001b[0m\u001b[1;34m\"title\"\u001b[0m\u001b[1;33m]\u001b[0m\u001b[1;33m.\u001b[0m\u001b[0mlike\u001b[0m\u001b[1;33m(\u001b[0m\u001b[1;34m\"%s\"\u001b[0m\u001b[1;33m)\u001b[0m\u001b[1;33m)\u001b[0m\u001b[1;33m.\u001b[0m\u001b[0mshow\u001b[0m\u001b[1;33m(\u001b[0m\u001b[1;36m10\u001b[0m\u001b[1;33m,\u001b[0m\u001b[1;32mFalse\u001b[0m\u001b[1;33m)\u001b[0m\u001b[1;33m\u001b[0m\u001b[1;33m\u001b[0m\u001b[0m\n\u001b[0m",
      "\u001b[1;31mNameError\u001b[0m: name 'df' is not defined"
     ]
    }
   ],
   "source": [
    "#Filtrar las peliculas que su nombre no terminen con \"s\"\n",
    "df.filter(~df[\"title\"].like(\"%s\")).show(10,False)\n"
   ]
  },
  {
   "cell_type": "code",
   "execution_count": 5,
   "id": "080f7b63",
   "metadata": {},
   "outputs": [
    {
     "ename": "NameError",
     "evalue": "name 'df' is not defined",
     "output_type": "error",
     "traceback": [
      "\u001b[1;31m---------------------------------------------------------------------------\u001b[0m",
      "\u001b[1;31mNameError\u001b[0m                                 Traceback (most recent call last)",
      "\u001b[1;32m~\\AppData\\Local\\Temp/ipykernel_9124/4012646389.py\u001b[0m in \u001b[0;36m<module>\u001b[1;34m\u001b[0m\n\u001b[1;32m----> 1\u001b[1;33m \u001b[0mmeanPop\u001b[0m\u001b[1;33m=\u001b[0m\u001b[0mdf\u001b[0m\u001b[1;33m.\u001b[0m\u001b[0magg\u001b[0m\u001b[1;33m(\u001b[0m\u001b[1;33m{\u001b[0m\u001b[1;34m\"popularity\"\u001b[0m\u001b[1;33m:\u001b[0m\u001b[1;34m\"mean\"\u001b[0m\u001b[1;33m}\u001b[0m\u001b[1;33m)\u001b[0m\u001b[1;33m.\u001b[0m\u001b[0mcollect\u001b[0m\u001b[1;33m(\u001b[0m\u001b[1;33m)\u001b[0m\u001b[1;33m[\u001b[0m\u001b[1;36m0\u001b[0m\u001b[1;33m]\u001b[0m\u001b[1;33m[\u001b[0m\u001b[1;34m\"avg(popularity)\"\u001b[0m\u001b[1;33m]\u001b[0m\u001b[1;33m\u001b[0m\u001b[1;33m\u001b[0m\u001b[0m\n\u001b[0m",
      "\u001b[1;31mNameError\u001b[0m: name 'df' is not defined"
     ]
    }
   ],
   "source": [
    "meanPop=df.agg({\"popularity\":\"mean\"}).collect()[0][\"avg(popularity)\"]"
   ]
  },
  {
   "cell_type": "code",
   "execution_count": null,
   "id": "3d65b294",
   "metadata": {},
   "outputs": [],
   "source": [
    "cuentaPop = df.count()"
   ]
  },
  {
   "cell_type": "code",
   "execution_count": null,
   "id": "f63de130",
   "metadata": {},
   "outputs": [],
   "source": [
    "df = df.withColumn(\"mean_popularity\",lit(meanPop))"
   ]
  },
  {
   "cell_type": "code",
   "execution_count": null,
   "id": "f96f4da6",
   "metadata": {},
   "outputs": [],
   "source": [
    "spark.stop()"
   ]
  },
  {
   "cell_type": "code",
   "execution_count": null,
   "id": "ec9d32d7",
   "metadata": {},
   "outputs": [],
   "source": [
    "df = df.withColumn(\"variance\", pow((df[\"popularity\"]-df[\"mean_popularity\"]),2))"
   ]
  },
  {
   "cell_type": "code",
   "execution_count": null,
   "id": "ed58f2d8",
   "metadata": {},
   "outputs": [],
   "source": [
    "variance_sum = df.agg({\"variance\":\"sum\"}).collect()[0][\"sum(variance)\"]"
   ]
  },
  {
   "cell_type": "code",
   "execution_count": null,
   "id": "c2dab5ad",
   "metadata": {},
   "outputs": [],
   "source": [
    "variance_popu = variance_sum/(cuentPop-1)"
   ]
  },
  {
   "cell_type": "code",
   "execution_count": null,
   "id": "677a8740",
   "metadata": {},
   "outputs": [],
   "source": [
    "print(variance_popu)"
   ]
  },
  {
   "cell_type": "code",
   "execution_count": null,
   "id": "120e0166",
   "metadata": {},
   "outputs": [],
   "source": [
    "def new_cols(budget,popularity):\n",
    "    if budget<10000000: budget_cat = \"Small\"\n",
    "    elif budget<100000000: budget_cat = \"Medium\"\n",
    "    else: budget_cat = \"Big\"\n",
    "    if popularity<3: ratings = \"Low\"\n",
    "    elif popularity<5: ratings = \"Meid\"\n",
    "    else ratings = \"High\"\n",
    "    return budget_cat,ratings\n",
    "    "
   ]
  },
  {
   "cell_type": "code",
   "execution_count": null,
   "id": "702230c7",
   "metadata": {},
   "outputs": [],
   "source": [
    "udfB = udf(new_cols, StructType([StructField(\"budget_cat\",StringType(),True)StructField(\"ratings\",StringType(),True)]))"
   ]
  },
  {
   "cell_type": "code",
   "execution_count": null,
   "id": "4842dc2a",
   "metadata": {},
   "outputs": [],
   "source": [
    "temp_df = df.select(\"id\",\"budget\",\"popularity\").withColumn(\"newcat\",udfB(\"budget\",\"popularity\"))"
   ]
  },
  {
   "cell_type": "code",
   "execution_count": null,
   "id": "a3913151",
   "metadata": {},
   "outputs": [],
   "source": [
    "df_with_newcols = temp_df.select(\"id\",\"budget\",\"popularity\",\"newcat\").withColumn(\"budget_cat\",temp_df.newcat.getItem(\"budget_cat\"))\\\n",
    ".withColumn(\"ratings\",temp_df.newcat,getItem(\"ratings\")).drop(\"newcat\")\n",
    "df_with_newcols.show(15,False)"
   ]
  },
  {
   "cell_type": "code",
   "execution_count": null,
   "id": "0600f026",
   "metadata": {},
   "outputs": [],
   "source": [
    "#Otra manera:\n",
    "df_with_newcols = df.select(\"id\",\"budget\",\"popularity\").\\\n",
    "withColumn(\"budget_cat\", when(df[\"budget\"]<1000000,\"Medium\").otherwise(\"Big\")).\\\n",
    "withColumn(\"ratings\", when(df[\"popularity\"]<3,\"Low\").\\\n",
    "when(df[\"popularity\"]<5,\"Mid\").otherwise(\"High\"))"
   ]
  },
  {
   "cell_type": "code",
   "execution_count": null,
   "id": "48e43929",
   "metadata": {},
   "outputs": [],
   "source": [
    "df_with_newcols"
   ]
  },
  {
   "cell_type": "code",
   "execution_count": null,
   "id": "ea84f10b",
   "metadata": {},
   "outputs": [],
   "source": [
    "df_with_newcols.show()"
   ]
  },
  {
   "cell_type": "code",
   "execution_count": null,
   "id": "4130ddab",
   "metadata": {},
   "outputs": [],
   "source": [
    "#Borrado/renombrar columnas\n",
    "#Borrado\n",
    "columns_to_drop=[\"budget_cat\"]\n",
    "df_with_newcols = df_with_newcols.drop(*columns_to_drop)"
   ]
  },
  {
   "cell_type": "code",
   "execution_count": null,
   "id": "630c698c",
   "metadata": {},
   "outputs": [],
   "source": [
    "df_with_newcols.show()"
   ]
  },
  {
   "cell_type": "code",
   "execution_count": null,
   "id": "21ab5d75",
   "metadata": {},
   "outputs": [],
   "source": [
    "#Renombrar columnas\n",
    "df_with_newcols = df_with_newcols.withColumnRenamed(\"id\",\"film_id\").withColumnRenamed(\"ratings\",\"film_ratings\")"
   ]
  },
  {
   "cell_type": "code",
   "execution_count": null,
   "id": "9aecf4ca",
   "metadata": {},
   "outputs": [],
   "source": [
    "df_with_newcols.show()"
   ]
  },
  {
   "cell_type": "code",
   "execution_count": null,
   "id": "4538dbba",
   "metadata": {},
   "outputs": [],
   "source": [
    "# renombrar varias columnas\n",
    "# Definicion de los nombres de las columnas que se van a acambiar. Lista de tuplas\n",
    "new_names = [(\"budget\",\"film_budget\"),(\"popularity\",\"film_popularity\")]\n",
    "#Aplicaciones  la funcion alias\n",
    "df_with_newcols_renamed = df_with_newcols.select(list(map(lambda old,new:col(old).alias(new),*zip(*new_names))))"
   ]
  },
  {
   "cell_type": "code",
   "execution_count": null,
   "id": "7b7e5c44",
   "metadata": {},
   "outputs": [],
   "source": [
    "df_with_newcols_renamed.show()"
   ]
  },
  {
   "cell_type": "code",
   "execution_count": null,
   "id": "fcb8cf26",
   "metadata": {},
   "outputs": [],
   "source": [
    "df_with_newcols = df.select(\"id\",\"budget\",\"popularity\").\\\n",
    "withColumn(\"budget_cat\", when(df[\"budget\"]<1000000,\"Medium\").otherwise(\"Big\")).\\\n",
    "withColumn(\"ratings\", when(df[\"popularity\"]<3,\"Low\").\\\n",
    "when(df[\"popularity\"]<5,\"Mid\").otherwise(\"High\"))"
   ]
  },
  {
   "cell_type": "code",
   "execution_count": null,
   "id": "5fd86357",
   "metadata": {},
   "outputs": [],
   "source": [
    "df_with_newcols = df_with_newcols.\\\n",
    "withColumn(\"BudgetRating_Category\",\n",
    "            concat(df_with_newcols.budget_cat,df_with_newcols.ratings))"
   ]
  },
  {
   "cell_type": "code",
   "execution_count": null,
   "id": "1ad158b7",
   "metadata": {},
   "outputs": [],
   "source": [
    "df_with_newcols.show()"
   ]
  },
  {
   "cell_type": "code",
   "execution_count": null,
   "id": "d49f39eb",
   "metadata": {},
   "outputs": [],
   "source": [
    "df_with_newcols = df_with_newcols.\\\n",
    "withColumn(\"BudgetRating_Category\",lower(df_with_newcols.BudgetRating_Category))"
   ]
  },
  {
   "cell_type": "code",
   "execution_count": null,
   "id": "701c3665",
   "metadata": {},
   "outputs": [],
   "source": [
    "df_with_newcols.registerTempTable(\"temp_data\")\n",
    "temporal = spark.sql(\"select ratings, count(ratings) from temp_data group by ratings\")"
   ]
  },
  {
   "cell_type": "code",
   "execution_count": null,
   "id": "a197b879",
   "metadata": {},
   "outputs": [],
   "source": [
    "from pyspark.sql.window import *"
   ]
  },
  {
   "cell_type": "code",
   "execution_count": null,
   "id": "fa3a0aea",
   "metadata": {},
   "outputs": [],
   "source": [
    "#Paso 1\n",
    "df_with_newcols = df_with_newcols.filter((df_with_newcols[\"popularity\"].\\\n",
    "                  isNotNull()) & (~isnan(df_with_newcols[\"popularity\"])))"
   ]
  },
  {
   "cell_type": "code",
   "execution_count": null,
   "id": "89947e0d",
   "metadata": {},
   "outputs": [],
   "source": [
    "#Paso 2 : Aplicamos las finciones window para\n",
    "# calular deciles (1 parte de 10, estadistica descriptiva)\n",
    "#ntile divide la informacion en N buckets\n",
    "df_with_newcols = df_with_newcols.select(\"id\",\"budget\",\"popularity\",ntile(10).over(Window.partitionBy().orderBy(df_with_newcols[\"popularity\"].\\\n",
    "desc())).alias(\"decile_rank\"))"
   ]
  },
  {
   "cell_type": "code",
   "execution_count": null,
   "id": "d9e9e42f",
   "metadata": {},
   "outputs": [],
   "source": [
    "#Paso 3 : Despliega valores\n",
    "df_with_newcols.groupby(\"decile_rank\").agg(min(\"popularity\").\\\n",
    "                alias(\"min_popularity\"),max(\"popularity\").\\\n",
    "                alias(\"max_popularity\"),count(\"popularity\")).show()"
   ]
  },
  {
   "cell_type": "code",
   "execution_count": null,
   "id": "8671a7e0",
   "metadata": {},
   "outputs": [],
   "source": [
    "#Paso 1 : Importar\n",
    "from pyspark.sql.window import *"
   ]
  },
  {
   "cell_type": "code",
   "execution_count": null,
   "id": "aaf248b1",
   "metadata": {},
   "outputs": [],
   "source": [
    "#Paso 2 : Seleccionar un subconjunto de datos\n",
    "#Por ejemplo:\n",
    "df_second_best = df.select(\"id\",\"popularity\",\"relase_date\")"
   ]
  },
  {
   "cell_type": "code",
   "execution_count": null,
   "id": "be0af23e",
   "metadata": {},
   "outputs": [],
   "source": [
    "#Paso 3 : Creamos una columna con el año tomamos como base relase_date\n",
    "df_second_best = df_second_best.withColumn(\"relase_year\",year(\"relase_date\")).drop(\"relase_date\")"
   ]
  },
  {
   "cell_type": "code",
   "execution_count": null,
   "id": "3d7355ad",
   "metadata": {},
   "outputs": [],
   "source": [
    "#Paso 4 : Utilizamos y definimos la funcion partition\n",
    "year_window = Window.partitionBy(df_second_best[\"relase_year\"]).\\\n",
    " orderBy(df_with_newcols[\"popularity\"].desc())"
   ]
  },
  {
   "cell_type": "code",
   "execution_count": null,
   "id": "5dbbd991",
   "metadata": {},
   "outputs": [],
   "source": [
    "#Paso 5 : Aplica la funcion partition\n",
    "df_second_best = df_second_best.select(\"id\",\"popularity\",\"relase_year\",rank().over(year_window).alias(\"rank\"))"
   ]
  },
  {
   "cell_type": "code",
   "execution_count": null,
   "id": "b96d771d",
   "metadata": {},
   "outputs": [],
   "source": [
    "#Paso 6 : Encuentra el segundo mejor calificado para el año 2020\n",
    "df_second_best.filter((df_second_best[\"relase_year\"]==2020)&(df_second_best[\"rank\"]==\"\")).show()"
   ]
  },
  {
   "cell_type": "code",
   "execution_count": null,
   "id": "d0da1caa",
   "metadata": {},
   "outputs": [],
   "source": [
    "#Paso 1 : Importar\n",
    "from pyspark.sql.window import *"
   ]
  },
  {
   "cell_type": "code",
   "execution_count": null,
   "id": "4f70a33e",
   "metadata": {},
   "outputs": [],
   "source": [
    "#Paso 2 : Seleccionar el subconjunto de datos\n",
    "df_revenue = df.select(\"id\",\"revenue\",\"relase_date\")"
   ]
  },
  {
   "cell_type": "code",
   "execution_count": null,
   "id": "1923b436",
   "metadata": {},
   "outputs": [],
   "source": [
    "#Paso 3 : Crear nueva columna con el año\n",
    "df_revenue = df_revenue.withColumn(\"relase_year\",year(\"relase_date\")).\\\n",
    "drop(\"relase_date\")"
   ]
  },
  {
   "cell_type": "code",
   "execution_count": null,
   "id": "b751cb99",
   "metadata": {},
   "outputs": [],
   "source": [
    "#Paso 4 : Definir la particion: partition function\n",
    "windowRev = Window.partitionBy(df_revenue[\"relase_date\"]).\\\n",
    "orderBy(df_revenue[\"revenue\"].desc()).rangeBetween(-sys.maxsize, sys.maxsize)"
   ]
  },
  {
   "cell_type": "code",
   "execution_count": null,
   "id": "bbfd6a11",
   "metadata": {},
   "outputs": [],
   "source": [
    "#Paso 5 : Aplicar la funcion de particion\n",
    "revenue_difference = (max(df_revenue[\"revenue\"]).\\\n",
    "                     over(windowRev) - df_revenue[\"revenue\"])"
   ]
  },
  {
   "cell_type": "code",
   "execution_count": null,
   "id": "5373703c",
   "metadata": {},
   "outputs": [],
   "source": [
    "#Paso 6:\n",
    "df_revenue.select(\"id\",\"revenue\",\"relase_year\",revenue_difference.alias(\"revenue_difference\")).show(10,False)"
   ]
  },
  {
   "cell_type": "code",
   "execution_count": 1,
   "id": "761ee943",
   "metadata": {},
   "outputs": [
    {
     "ename": "NameError",
     "evalue": "name 'df' is not defined",
     "output_type": "error",
     "traceback": [
      "\u001b[1;31m---------------------------------------------------------------------------\u001b[0m",
      "\u001b[1;31mNameError\u001b[0m                                 Traceback (most recent call last)",
      "\u001b[1;32m~\\AppData\\Local\\Temp/ipykernel_13596/677053362.py\u001b[0m in \u001b[0;36m<module>\u001b[1;34m\u001b[0m\n\u001b[0;32m      1\u001b[0m \u001b[1;31m#Filtrado por titulo\u001b[0m\u001b[1;33m\u001b[0m\u001b[1;33m\u001b[0m\u001b[0m\n\u001b[0;32m      2\u001b[0m \u001b[1;31m#Paso 1:\u001b[0m\u001b[1;33m\u001b[0m\u001b[1;33m\u001b[0m\u001b[0m\n\u001b[1;32m----> 3\u001b[1;33m \u001b[0mdf\u001b[0m \u001b[1;33m=\u001b[0m \u001b[0mdf\u001b[0m\u001b[1;33m.\u001b[0m\u001b[0mwithColumn\u001b[0m\u001b[1;33m(\u001b[0m\u001b[1;34m\"relase_year\"\u001b[0m\u001b[1;33m,\u001b[0m\u001b[0myear\u001b[0m\u001b[1;33m(\u001b[0m\u001b[1;34m\"relase_date\"\u001b[0m\u001b[1;33m)\u001b[0m\u001b[1;33m)\u001b[0m\u001b[1;33m\u001b[0m\u001b[1;33m\u001b[0m\u001b[0m\n\u001b[0m",
      "\u001b[1;31mNameError\u001b[0m: name 'df' is not defined"
     ]
    }
   ],
   "source": [
    "#Filtrado por titulo\n",
    "#Paso 1:\n",
    "df = df.withColumn(\"relase_year\",year(\"relase_date\"))"
   ]
  },
  {
   "cell_type": "code",
   "execution_count": 2,
   "id": "d8efd27f",
   "metadata": {},
   "outputs": [
    {
     "ename": "NameError",
     "evalue": "name 'df' is not defined",
     "output_type": "error",
     "traceback": [
      "\u001b[1;31m---------------------------------------------------------------------------\u001b[0m",
      "\u001b[1;31mNameError\u001b[0m                                 Traceback (most recent call last)",
      "\u001b[1;32m~\\AppData\\Local\\Temp/ipykernel_13596/4190271945.py\u001b[0m in \u001b[0;36m<module>\u001b[1;34m\u001b[0m\n\u001b[0;32m      1\u001b[0m \u001b[1;31m#Paso 2 : Aplicar el collect_list\u001b[0m\u001b[1;33m\u001b[0m\u001b[1;33m\u001b[0m\u001b[0m\n\u001b[1;32m----> 2\u001b[1;33m \u001b[0mdf\u001b[0m\u001b[1;33m.\u001b[0m\u001b[0mfilter\u001b[0m\u001b[1;33m(\u001b[0m\u001b[1;34m\"title=='The Lost World'\"\u001b[0m\u001b[1;33m)\u001b[0m\u001b[1;33m.\u001b[0m\u001b[0mgroupBy\u001b[0m\u001b[1;33m(\u001b[0m\u001b[1;34m\"title\"\u001b[0m\u001b[1;33m)\u001b[0m\u001b[1;33m.\u001b[0m\u001b[0;31m\\\u001b[0m\u001b[1;33m\u001b[0m\u001b[1;33m\u001b[0m\u001b[0m\n\u001b[0m\u001b[0;32m      3\u001b[0m \u001b[0magg\u001b[0m\u001b[1;33m(\u001b[0m\u001b[0mcollect_list\u001b[0m\u001b[1;33m(\u001b[0m\u001b[1;34m\"relase_year\"\u001b[0m\u001b[1;33m)\u001b[0m\u001b[1;33m)\u001b[0m\u001b[1;33m.\u001b[0m\u001b[0mshow\u001b[0m\u001b[1;33m(\u001b[0m\u001b[1;36m1\u001b[0m\u001b[1;33m,\u001b[0m\u001b[1;32mFalse\u001b[0m\u001b[1;33m)\u001b[0m\u001b[1;33m\u001b[0m\u001b[1;33m\u001b[0m\u001b[0m\n",
      "\u001b[1;31mNameError\u001b[0m: name 'df' is not defined"
     ]
    }
   ],
   "source": [
    "#Paso 2 : Aplicar el collect_list\n",
    "df.filter(\"title=='The Lost World'\").groupBy(\"title\").\\\n",
    "agg(collect_list(\"relase_year\")).show(1,False)"
   ]
  },
  {
   "cell_type": "code",
   "execution_count": null,
   "id": "017ab8c0",
   "metadata": {},
   "outputs": [],
   "source": []
  }
 ],
 "metadata": {
  "kernelspec": {
   "display_name": "Python 3 (ipykernel)",
   "language": "python",
   "name": "python3"
  },
  "language_info": {
   "codemirror_mode": {
    "name": "ipython",
    "version": 3
   },
   "file_extension": ".py",
   "mimetype": "text/x-python",
   "name": "python",
   "nbconvert_exporter": "python",
   "pygments_lexer": "ipython3",
   "version": "3.9.7"
  }
 },
 "nbformat": 4,
 "nbformat_minor": 5
}
