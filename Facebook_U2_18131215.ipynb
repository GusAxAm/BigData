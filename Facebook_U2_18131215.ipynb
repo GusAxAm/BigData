{
 "cells": [
  {
   "cell_type": "markdown",
   "id": "af7dd4f1",
   "metadata": {},
   "source": [
    "# WEBSCRAPING CON FACEBOOK\n",
    "\n",
    "## Usando la API de Facebook"
   ]
  },
  {
   "cell_type": "markdown",
   "id": "f2750bb3",
   "metadata": {},
   "source": [
    "# INTEGRANTES DEL EQUIPO\n",
    "* Gustavo Maximiliano Ambriz Zamarripa 18131215\n",
    "* Christian Emmanuel Escalera Cerda 18131395\n",
    "* Gael Abraham Garcia Gallegos 18131241\n",
    "* Ulises Silva Medina 18131282\n"
   ]
  },
  {
   "cell_type": "code",
   "execution_count": 1,
   "id": "01396e9f",
   "metadata": {},
   "outputs": [],
   "source": [
    "import os\n",
    "import pandas as pd\n",
    "import numpy as np\n",
    "import json\n",
    "import requests\n",
    "import urllib.request\n",
    "import bs4\n",
    "import facebook"
   ]
  },
  {
   "cell_type": "code",
   "execution_count": 57,
   "id": "8698204e",
   "metadata": {},
   "outputs": [],
   "source": [
    "token= 'EAAyEiwRLE9sBAN7KfqEQO1yrGspvTfZBv0AmFf7VaofZA6wwLK5FTKJYlrUsuHtcG9YX6icAHJPhUE1lumV3VvtmNmlHjXIIcDg3uxicfLXhGwoJ3DZCXgg5dcsDIuqRGpbCJDXqxxkEsxK21EwpNrnlEXFOtTpgZBoLZAMjyZC3a4yWDkeVGcJN7ZBjQ8sKUDGrh2fYtgPKD5DZCLmTZBLz7'\n",
    "app_secret = '9ae2302e2a8ee82f75e16aa9fb5d0e37'\n",
    "app_id_prueba = '3523432327877595 '\n",
    "\n",
    "graph = facebook.GraphAPI(access_token=token)"
   ]
  },
  {
   "cell_type": "code",
   "execution_count": 43,
   "id": "1fedfb6c",
   "metadata": {},
   "outputs": [
    {
     "name": "stdout",
     "output_type": "stream",
     "text": [
      "{'created_time': '2022-10-25T05:11:06+0000', 'id': '5854336317952386_5818233008229384'}\n",
      "{'created_time': '2022-01-20T03:27:39+0000', 'id': '5854336317952386_5000361743349852'}\n",
      "{'created_time': '2022-01-12T01:00:07+0000', 'id': '5854336317952386_4964972020222158'}\n",
      "{'created_time': '2021-10-20T20:24:27+0000', 'id': '5854336317952386_4680804135305616'}\n",
      "{'created_time': '2021-09-07T22:36:09+0000', 'id': '5854336317952386_4543671735685524'}\n",
      "{'created_time': '2021-08-25T02:37:04+0000', 'id': '5854336317952386_4501262589926439'}\n",
      "{'created_time': '2021-08-11T21:48:58+0000', 'id': '5854336317952386_4461174753935223'}\n",
      "{'created_time': '2021-08-08T17:57:21+0000', 'id': '5854336317952386_4451453658240666'}\n",
      "{'created_time': '2021-08-04T18:12:05+0000', 'id': '5854336317952386_4439493852769980'}\n",
      "{'created_time': '2021-07-20T18:17:28+0000', 'id': '5854336317952386_4394743620578337'}\n",
      "{'created_time': '2021-07-15T19:38:33+0000', 'id': '5854336317952386_4380483275337705'}\n",
      "{'created_time': '2021-07-14T18:35:39+0000', 'id': '5854336317952386_4377464128972953'}\n"
     ]
    }
   ],
   "source": [
    "#Generamos una lista de al menos de 11 elementos usando la API de Facebook, en este caso, de las ultimas 10 publicaciones de un perfil en particular segun su ID\n",
    "def func(qid,fields=None):\n",
    "    return(graph.get_object(id=str(qid),fields = fields))\n",
    "\n",
    "miId='5854336317952386'\n",
    "posts = func(\"5854336317952386\",\"posts\")[\"posts\"][\"data\"][:12]\n",
    "\n",
    "for post in posts:\n",
    "    print(post)\n",
    "    #print(\"\\n\")"
   ]
  },
  {
   "cell_type": "code",
   "execution_count": 33,
   "id": "a3601dd1",
   "metadata": {},
   "outputs": [
    {
     "name": "stdout",
     "output_type": "stream",
     "text": [
      "True\n"
     ]
    }
   ],
   "source": [
    "# Con la siguiente función se consulta si el usuario, tiene permisos para modificar la APP\n",
    "\n",
    "permissions = graph.get_permissions(user_id=5854336317952386)\n",
    "print('public_profile' in permissions)"
   ]
  },
  {
   "cell_type": "code",
   "execution_count": 47,
   "id": "2e637c88",
   "metadata": {},
   "outputs": [],
   "source": [
    "#Con los campos, podemos guardar en variables cada parte de la publicación\n",
    "\n",
    "#mensaje = graph.get_object(id='', fields='message')\n",
    "#print(mensaje['message'])"
   ]
  },
  {
   "cell_type": "code",
   "execution_count": 52,
   "id": "e7381d64",
   "metadata": {},
   "outputs": [
    {
     "data": {
      "text/plain": [
       "{'id': '5854336317952386', 'name': 'Gael Abraham', 'birthday': '07/05/1991'}"
      ]
     },
     "execution_count": 52,
     "metadata": {},
     "output_type": "execute_result"
    }
   ],
   "source": [
    "#Tomando los campos correctos, así como el id del perfil o publicacion, podemos armar un dataframe.\n",
    "\n",
    "yo = func(\"5854336317952386\",\"id, name, birthday\")\n",
    "yo"
   ]
  },
  {
   "cell_type": "code",
   "execution_count": 12,
   "id": "6a19bd1f",
   "metadata": {},
   "outputs": [
    {
     "name": "stdout",
     "output_type": "stream",
     "text": [
      "                created_time                                 id\n",
      "0   2022-10-25T05:11:06+0000  5854336317952386_5818233008229384\n",
      "1   2022-01-20T03:27:39+0000  5854336317952386_5000361743349852\n",
      "2   2022-01-12T01:00:07+0000  5854336317952386_4964972020222158\n",
      "3   2021-10-20T20:24:27+0000  5854336317952386_4680804135305616\n",
      "4   2021-09-07T22:36:09+0000  5854336317952386_4543671735685524\n",
      "5   2021-08-25T02:37:04+0000  5854336317952386_4501262589926439\n",
      "6   2021-08-11T21:48:58+0000  5854336317952386_4461174753935223\n",
      "7   2021-08-08T17:57:21+0000  5854336317952386_4451453658240666\n",
      "8   2021-08-04T18:12:05+0000  5854336317952386_4439493852769980\n",
      "9   2021-07-20T18:17:28+0000  5854336317952386_4394743620578337\n",
      "10  2021-07-15T19:38:33+0000  5854336317952386_4380483275337705\n",
      "11  2021-07-14T18:35:39+0000  5854336317952386_4377464128972953\n",
      "12  2021-07-11T21:33:07+0000  5854336317952386_4369152919804074\n",
      "13  2021-07-10T20:42:26+0000  5854336317952386_4366127483439951\n",
      "14  2021-07-02T03:45:09+0000  5854336317952386_4341348285917871\n"
     ]
    }
   ],
   "source": [
    "df = pd.DataFrame(posts)\n",
    "df\n",
    "print(df)"
   ]
  },
  {
   "cell_type": "code",
   "execution_count": 59,
   "id": "3ec5c5ce",
   "metadata": {},
   "outputs": [
    {
     "name": "stdout",
     "output_type": "stream",
     "text": [
      "{'id': '5854336317952386_5818233008229384', 'full_picture': 'https://scontent.ftrc3-1.fna.fbcdn.net/v/t39.30808-6/313022736_5818232928229392_7989927503528854753_n.jpg?stp=cp1_dst-jpg_p720x720&_nc_cat=108&ccb=1-7&_nc_sid=85a577&_nc_eui2=AeFKFjl_lnvCqn8dCs-u3vQ6V_h_nmMOD4ZX-H-eYw4PhtQiODbSy1xNxnEAFddQrX1abdjMo7zT4kvMAnLyDlgM&_nc_ohc=iop-ECQ2tFQAX-EnbJq&_nc_ht=scontent.ftrc3-1.fna&edm=AP4hL3IEAAAA&oh=00_AfBk_o5hKsADF7AxX7B57ggz26NHAjzMjI9SQS9bpVzBIA&oe=636C9DB2', 'created_time': '2022-10-25T05:11:06+0000'} \n",
      "\n",
      "{'id': '5854336317952386_5000361743349852', 'created_time': '2022-01-20T03:27:39+0000'} \n",
      "\n",
      "{'id': '5854336317952386_4964972020222158', 'created_time': '2022-01-12T01:00:07+0000'} \n",
      "\n",
      "{'id': '5854336317952386_4680804135305616', 'created_time': '2021-10-20T20:24:27+0000'} \n",
      "\n",
      "{'id': '5854336317952386_4543671735685524', 'created_time': '2021-09-07T22:36:09+0000'} \n",
      "\n",
      "{'id': '5854336317952386_4501262589926439', 'full_picture': 'https://scontent.ftrc3-1.fna.fbcdn.net/v/t39.30808-6/240591430_265426575396432_1643423300656920349_n.jpg?stp=dst-jpg_s720x720&_nc_cat=109&ccb=1-7&_nc_sid=110474&_nc_eui2=AeE9UBljlmAoAkDhmAoAkhvwP3O9GqY9mG8_c70apj2Yb2FrW0hWVAp-_MmjjzOFys3tf-z6g203heSNMRdcJtbC&_nc_ohc=Nh-i7irA9FsAX9KMYwK&_nc_ht=scontent.ftrc3-1.fna&edm=AP4hL3IEAAAA&oh=00_AfDQ7h48g2T0oJBS2sKFG_C-EoQM4dizgFa8LKLRr3jIYg&oe=636E1261', 'created_time': '2021-08-25T02:37:04+0000'} \n",
      "\n",
      "{'id': '5854336317952386_4461174753935223', 'created_time': '2021-08-11T21:48:58+0000'} \n",
      "\n",
      "{'id': '5854336317952386_4451453658240666', 'created_time': '2021-08-08T17:57:21+0000'} \n",
      "\n",
      "{'id': '5854336317952386_4439493852769980', 'created_time': '2021-08-04T18:12:05+0000'} \n",
      "\n",
      "{'id': '5854336317952386_4394743620578337', 'created_time': '2021-07-20T18:17:28+0000'} \n",
      "\n",
      "{'id': '5854336317952386_4380483275337705', 'created_time': '2021-07-15T19:38:33+0000'} \n",
      "\n",
      "{'id': '5854336317952386_4377464128972953', 'created_time': '2021-07-14T18:35:39+0000'} \n",
      "\n",
      "{'id': '5854336317952386_4369152919804074', 'created_time': '2021-07-11T21:33:07+0000'} \n",
      "\n",
      "{'id': '5854336317952386_4366127483439951', 'created_time': '2021-07-10T20:42:26+0000'} \n",
      "\n",
      "{'id': '5854336317952386_4341348285917871', 'created_time': '2021-07-02T03:45:09+0000'} \n",
      "\n",
      "{'id': '5854336317952386_4340362736016426', 'created_time': '2021-07-01T19:29:03+0000'} \n",
      "\n",
      "{'id': '5854336317952386_4317809641605069', 'full_picture': 'https://scontent.ftrc3-1.fna.fbcdn.net/v/t1.6435-9/205039683_2908406179428967_3817069738964132459_n.jpg?_nc_cat=101&ccb=1-7&_nc_sid=110474&_nc_eui2=AeFrx2Z4J8xh-2QBucQJOrtB81_GvG3cZ-zzX8a8bdxn7Bgawiwdehm8YlcGlFERv4ZOyJOo4UqtFWPkZ5tC95gL&_nc_ohc=frOKQXz009YAX-1swGo&_nc_ht=scontent.ftrc3-1.fna&edm=AP4hL3IEAAAA&oh=00_AfBFcr5u6VOfahuQ-ihOuTem-k1OSWJ6FjcKs9a3ozesvA&oe=638FD054', 'created_time': '2021-06-23T19:06:51+0000'} \n",
      "\n",
      "{'id': '5854336317952386_4266876400031727', 'created_time': '2021-06-05T09:21:29+0000'} \n",
      "\n",
      "{'id': '5854336317952386_4263272623725438', 'created_time': '2021-06-04T03:40:02+0000'} \n",
      "\n",
      "{'id': '5854336317952386_4262416407144393', 'created_time': '2021-06-03T20:09:44+0000'} \n",
      "\n",
      "{'id': '5854336317952386_4253716668014367', 'created_time': '2021-05-31T21:48:18+0000'} \n",
      "\n"
     ]
    }
   ],
   "source": [
    "#Tomaremos como datos el ID, la descripción (message), link de la foto (si la hay), \n",
    "#y la fecha de creación\n",
    "\n",
    "posts = func(\"5854336317952386\",\"feed{id,message,full_picture,created_time,reactions}\")[\"feed\"][\"data\"][:21]\n",
    "\n",
    "for post in posts:\n",
    "    print(post, '\\n')"
   ]
  },
  {
   "cell_type": "code",
   "execution_count": 14,
   "id": "29153965",
   "metadata": {},
   "outputs": [
    {
     "name": "stdout",
     "output_type": "stream",
     "text": [
      "                                   id  \\\n",
      "0   5854336317952386_5818233008229384   \n",
      "1   5854336317952386_5000361743349852   \n",
      "2   5854336317952386_4964972020222158   \n",
      "3   5854336317952386_4680804135305616   \n",
      "4   5854336317952386_4543671735685524   \n",
      "5   5854336317952386_4501262589926439   \n",
      "6   5854336317952386_4461174753935223   \n",
      "7   5854336317952386_4451453658240666   \n",
      "8   5854336317952386_4439493852769980   \n",
      "9   5854336317952386_4394743620578337   \n",
      "10  5854336317952386_4380483275337705   \n",
      "11  5854336317952386_4377464128972953   \n",
      "12  5854336317952386_4369152919804074   \n",
      "13  5854336317952386_4366127483439951   \n",
      "14  5854336317952386_4341348285917871   \n",
      "15  5854336317952386_4340362736016426   \n",
      "16  5854336317952386_4317809641605069   \n",
      "17  5854336317952386_4266876400031727   \n",
      "18  5854336317952386_4263272623725438   \n",
      "19  5854336317952386_4262416407144393   \n",
      "20  5854336317952386_4253716668014367   \n",
      "\n",
      "                                         full_picture  \\\n",
      "0   https://scontent.ftrc3-1.fna.fbcdn.net/v/t39.3...   \n",
      "1                                                 NaN   \n",
      "2                                                 NaN   \n",
      "3                                                 NaN   \n",
      "4                                                 NaN   \n",
      "5   https://scontent.ftrc3-1.fna.fbcdn.net/v/t39.3...   \n",
      "6                                                 NaN   \n",
      "7                                                 NaN   \n",
      "8                                                 NaN   \n",
      "9                                                 NaN   \n",
      "10                                                NaN   \n",
      "11                                                NaN   \n",
      "12                                                NaN   \n",
      "13                                                NaN   \n",
      "14                                                NaN   \n",
      "15                                                NaN   \n",
      "16  https://scontent.ftrc3-1.fna.fbcdn.net/v/t1.64...   \n",
      "17                                                NaN   \n",
      "18                                                NaN   \n",
      "19                                                NaN   \n",
      "20                                                NaN   \n",
      "\n",
      "                created_time  \n",
      "0   2022-10-25T05:11:06+0000  \n",
      "1   2022-01-20T03:27:39+0000  \n",
      "2   2022-01-12T01:00:07+0000  \n",
      "3   2021-10-20T20:24:27+0000  \n",
      "4   2021-09-07T22:36:09+0000  \n",
      "5   2021-08-25T02:37:04+0000  \n",
      "6   2021-08-11T21:48:58+0000  \n",
      "7   2021-08-08T17:57:21+0000  \n",
      "8   2021-08-04T18:12:05+0000  \n",
      "9   2021-07-20T18:17:28+0000  \n",
      "10  2021-07-15T19:38:33+0000  \n",
      "11  2021-07-14T18:35:39+0000  \n",
      "12  2021-07-11T21:33:07+0000  \n",
      "13  2021-07-10T20:42:26+0000  \n",
      "14  2021-07-02T03:45:09+0000  \n",
      "15  2021-07-01T19:29:03+0000  \n",
      "16  2021-06-23T19:06:51+0000  \n",
      "17  2021-06-05T09:21:29+0000  \n",
      "18  2021-06-04T03:40:02+0000  \n",
      "19  2021-06-03T20:09:44+0000  \n",
      "20  2021-05-31T21:48:18+0000  \n"
     ]
    }
   ],
   "source": [
    "df = pd.DataFrame(posts)\n",
    "print(df)"
   ]
  },
  {
   "cell_type": "code",
   "execution_count": 16,
   "id": "208d1274",
   "metadata": {},
   "outputs": [
    {
     "name": "stdout",
     "output_type": "stream",
     "text": [
      "                                   id  \\\n",
      "0   5854336317952386_5818233008229384   \n",
      "5   5854336317952386_4501262589926439   \n",
      "16  5854336317952386_4317809641605069   \n",
      "\n",
      "                                         full_picture  \\\n",
      "0   https://scontent.ftrc3-1.fna.fbcdn.net/v/t39.3...   \n",
      "5   https://scontent.ftrc3-1.fna.fbcdn.net/v/t39.3...   \n",
      "16  https://scontent.ftrc3-1.fna.fbcdn.net/v/t1.64...   \n",
      "\n",
      "                created_time  \n",
      "0   2022-10-25T05:11:06+0000  \n",
      "5   2021-08-25T02:37:04+0000  \n",
      "16  2021-06-23T19:06:51+0000  \n"
     ]
    }
   ],
   "source": [
    "#Limpiamos el dataset de los NaN en publicaciones\n",
    "\n",
    "dfNoNan = df.dropna()\n",
    "dfNoNan\n",
    "print(dfNoNan)"
   ]
  },
  {
   "cell_type": "code",
   "execution_count": 17,
   "id": "370f5da8",
   "metadata": {},
   "outputs": [],
   "source": [
    "#Guardaremos el dataframe en un archivo csv\n",
    "\n",
    "dfNoNan.to_csv(\"yo.csv\")"
   ]
  }
 ],
 "metadata": {
  "kernelspec": {
   "display_name": "Python 3 (ipykernel)",
   "language": "python",
   "name": "python3"
  },
  "language_info": {
   "codemirror_mode": {
    "name": "ipython",
    "version": 3
   },
   "file_extension": ".py",
   "mimetype": "text/x-python",
   "name": "python",
   "nbconvert_exporter": "python",
   "pygments_lexer": "ipython3",
   "version": "3.9.7"
  }
 },
 "nbformat": 4,
 "nbformat_minor": 5
}
