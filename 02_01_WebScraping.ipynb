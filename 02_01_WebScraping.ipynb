{
 "cells": [
  {
   "cell_type": "markdown",
   "metadata": {},
   "source": [
    "### WEB SCRAPING\n",
    "\n",
    "Web scraping Blogs, foros, sitios oficiales de datos, etc. Funcion de recopilar esa informacion: comparacion de precios, analisis de opinion sobre productos/servicios, chatbots, etc. No hay limite en cuanto creatividad de trabajar con la informacion. Existen sitios tienen derechos de autor, habrá que tener cuidado. Hay mas sitios que tienen un concepto datos libres: cada vez mas organizaciones tienen secciones de datos( csv, txt, xslx, json)\n",
    "\n",
    "Hay 3 formatos: Fuentes de iformacion:\n",
    "* Paginas weve pueden incluir: csv, json, xml, etc.\n",
    "* API-REST json, xml.\n",
    "* Páginas que contienen la informacion en formato \"humano\": Python tiene varias librerias: \n",
    "    * 1) acceder por medio de una URL, descargar informacion y luego podemos utilizar desde python un paquete: BeautifulSoup\n",
    "    * 2) Si requiere realizar un proceso en la informacion (extra) entonces se utiliza un paquete: Selenium ( permite desde python hacer todo como si estuvieramos en el navegador) \n",
    "    * 3) python: request.\n",
    "\n",
    "Resumiendo: \n",
    "* archivos incluidos en la página web: request, csv, json, etc. \n",
    "* API-REST: Requests\n",
    "* Datos incrustados en la página web (incluidos) BeautifulSoup) \n",
    "* Datos que requieren de procesos/interaccions: Selenium.\n",
    "* Archivos incluidos en la página web: URI, URL, URN.\n",
    "\n",
    "* URI (uniform resource identifier): cadena de caracteres que identifica un recurso. Sintaxis general: \n",
    "Schema: [//user[:passwd]@host[:port]][/path][?query][#tag]\n",
    "\n",
    "* URI se divide en dos partes: URL y URN\n",
    "* URL (uniform resource locator) direcciones en la www\n",
    "ftp://teclaguna.edu.mx\n",
    "* URN ( uniform resource name)\n",
    "urn:isbn:0451450523\n"
   ]
  },
  {
   "cell_type": "code",
   "execution_count": 1,
   "metadata": {},
   "outputs": [
    {
     "name": "stdout",
     "output_type": "stream",
     "text": [
      "<Response [200]>\n"
     ]
    }
   ],
   "source": [
    "#archivos incluidos en la página web\n",
    "import requests\n",
    "url = \"http://www.gutenberg.org/ebooks/1112.txt.utf-8\"\n",
    "resp = requests.get(url) \n",
    "print(resp) "
   ]
  },
  {
   "cell_type": "code",
   "execution_count": 2,
   "metadata": {},
   "outputs": [
    {
     "data": {
      "text/plain": [
       "requests.models.Response"
      ]
     },
     "execution_count": 2,
     "metadata": {},
     "output_type": "execute_result"
    }
   ],
   "source": [
    "type(resp)"
   ]
  },
  {
   "cell_type": "code",
   "execution_count": 3,
   "metadata": {},
   "outputs": [],
   "source": [
    "path = \"C:\\\\DataSet\\\\\"\n",
    "with open(path +\"ryj.txt\",\"wb\") as arch:\n",
    "    arch.write(resp.content)"
   ]
  },
  {
   "cell_type": "code",
   "execution_count": 7,
   "metadata": {},
   "outputs": [
    {
     "name": "stdout",
     "output_type": "stream",
     "text": [
      "29012\n"
     ]
    }
   ],
   "source": [
    "import urllib.request\n",
    "signos = \",*./#[]\"\n",
    "cuenta= 0\n",
    "pal = [] #lista\n",
    "with urllib.request.urlopen(\"http://www.gutenberg.org/ebooks/1112.txt.utf-8\") as info:\n",
    "    for linea in info.readlines():\n",
    "        limpia = linea.decode(\"utf-8\").lower()\n",
    "        for s in signos:\n",
    "            limpia = limpia.replace(s, \" \")\n",
    "            #cuenta = cuenta + 1\n",
    "            #extendn append en la lista\n",
    "        pal.extend(limpia.split())\n",
    "#print(cuenta)\n",
    "#print(pal)\n",
    "print(len(pal))"
   ]
  },
  {
   "cell_type": "code",
   "execution_count": null,
   "metadata": {},
   "outputs": [],
   "source": []
  }
 ],
 "metadata": {
  "kernelspec": {
   "display_name": "Python 3.9.12 ('base')",
   "language": "python",
   "name": "python3"
  },
  "language_info": {
   "codemirror_mode": {
    "name": "ipython",
    "version": 3
   },
   "file_extension": ".py",
   "mimetype": "text/x-python",
   "name": "python",
   "nbconvert_exporter": "python",
   "pygments_lexer": "ipython3",
   "version": "3.9.12"
  },
  "orig_nbformat": 4,
  "vscode": {
   "interpreter": {
    "hash": "c8a22d73dcc28781e9217c7861b2af16eb7853abca10d4119f16e054c3b95151"
   }
  }
 },
 "nbformat": 4,
 "nbformat_minor": 2
}
