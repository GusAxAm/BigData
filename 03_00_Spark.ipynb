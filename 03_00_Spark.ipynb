{
 "cells": [
  {
   "cell_type": "code",
   "execution_count": 1,
   "id": "da20558b",
   "metadata": {},
   "outputs": [],
   "source": [
    "import findspark\n",
    "findspark.init()"
   ]
  },
  {
   "cell_type": "code",
   "execution_count": 2,
   "id": "0a34884d",
   "metadata": {},
   "outputs": [
    {
     "data": {
      "text/plain": [
       "<module 'pyspark.version' from 'C:\\\\spark\\\\spark\\\\python\\\\pyspark\\\\version.py'>"
      ]
     },
     "execution_count": 2,
     "metadata": {},
     "output_type": "execute_result"
    }
   ],
   "source": [
    "import pyspark\n",
    "pyspark.version"
   ]
  },
  {
   "cell_type": "code",
   "execution_count": 3,
   "id": "6ea7236d",
   "metadata": {},
   "outputs": [],
   "source": [
    "sc = pyspark.SparkContext(appName = \"prueba\")"
   ]
  },
  {
   "cell_type": "code",
   "execution_count": 4,
   "id": "0618038f",
   "metadata": {},
   "outputs": [],
   "source": [
    "txt = sc.textFile('D:/00_Materias 2020/romeoyjulieta.txt')\n",
    "lineas = txt.filter(lambda linea: \"romeo\" in linea)"
   ]
  },
  {
   "cell_type": "code",
   "execution_count": 5,
   "id": "ca175805",
   "metadata": {},
   "outputs": [
    {
     "data": {
      "text/plain": [
       "D:/00_Materias 2020/romeoyjulieta.txt MapPartitionsRDD[1] at textFile at NativeMethodAccessorImpl.java:0"
      ]
     },
     "execution_count": 5,
     "metadata": {},
     "output_type": "execute_result"
    }
   ],
   "source": [
    "txt"
   ]
  },
  {
   "cell_type": "code",
   "execution_count": 6,
   "id": "f6bcb75f",
   "metadata": {},
   "outputs": [
    {
     "data": {
      "text/plain": [
       "<bound method RDD.count of D:/00_Materias 2020/romeoyjulieta.txt MapPartitionsRDD[1] at textFile at NativeMethodAccessorImpl.java:0>"
      ]
     },
     "execution_count": 6,
     "metadata": {},
     "output_type": "execute_result"
    }
   ],
   "source": [
    "txt.count"
   ]
  },
  {
   "cell_type": "code",
   "execution_count": 7,
   "id": "f4390aaf",
   "metadata": {},
   "outputs": [
    {
     "data": {
      "text/plain": [
       "PythonRDD[2] at RDD at PythonRDD.scala:53"
      ]
     },
     "execution_count": 7,
     "metadata": {},
     "output_type": "execute_result"
    }
   ],
   "source": [
    "lineas"
   ]
  },
  {
   "cell_type": "code",
   "execution_count": 8,
   "id": "44c16fd3",
   "metadata": {},
   "outputs": [
    {
     "data": {
      "text/plain": [
       "<bound method RDD.count of PythonRDD[2] at RDD at PythonRDD.scala:53>"
      ]
     },
     "execution_count": 8,
     "metadata": {},
     "output_type": "execute_result"
    }
   ],
   "source": [
    "lineas.count"
   ]
  },
  {
   "cell_type": "code",
   "execution_count": 9,
   "id": "438099a2",
   "metadata": {},
   "outputs": [],
   "source": [
    "with open(\"conteo.txt\", \"w\") as arch:\n",
    "    arch.write(f\"Num. lineas: {txt.count}\\n\")\n",
    "    arch.write(f\"Lineas con romeo: {lineas.count}\\n\")"
   ]
  },
  {
   "cell_type": "code",
   "execution_count": 10,
   "id": "c901ec63",
   "metadata": {},
   "outputs": [],
   "source": [
    "sc.stop()"
   ]
  },
  {
   "cell_type": "code",
   "execution_count": null,
   "id": "911b3a40",
   "metadata": {},
   "outputs": [],
   "source": []
  }
 ],
 "metadata": {
  "kernelspec": {
   "display_name": "Python 3 (ipykernel)",
   "language": "python",
   "name": "python3"
  },
  "language_info": {
   "codemirror_mode": {
    "name": "ipython",
    "version": 3
   },
   "file_extension": ".py",
   "mimetype": "text/x-python",
   "name": "python",
   "nbconvert_exporter": "python",
   "pygments_lexer": "ipython3",
   "version": "3.9.13"
  }
 },
 "nbformat": 4,
 "nbformat_minor": 5
}
